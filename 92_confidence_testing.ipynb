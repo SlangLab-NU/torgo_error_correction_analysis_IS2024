{
 "cells": [
  {
   "cell_type": "markdown",
   "id": "0456b3ac-5fd3-4c9d-9cec-5a609ba03cd1",
   "metadata": {},
   "source": [
    "# median testing"
   ]
  },
  {
   "cell_type": "code",
   "execution_count": 1,
   "id": "07ba95b9-d530-4670-944b-02579e0adfed",
   "metadata": {},
   "outputs": [
    {
     "name": "stdout",
     "output_type": "stream",
     "text": [
      "Is the improvement statistically significant? True\n",
      "p-value: 7.297398609830172e-19\n"
     ]
    }
   ],
   "source": [
    "import numpy as np\n",
    "from scipy import stats\n",
    "import random\n",
    "\n",
    "random.seed(42)\n",
    "\n",
    "def significant_improvement(before_mean_wer, after_mean_wer, sample_size):\n",
    "    # Generate random data based on mean and sample size (assuming normal distribution)\n",
    "    before_data = np.random.normal(before_mean_wer, 0.1, sample_size)\n",
    "    after_data = np.random.normal(after_mean_wer, 0.1, sample_size)\n",
    "    \n",
    "    # Mann-Whitney U test\n",
    "    stat, p_value = stats.mannwhitneyu(before_data, after_data, alternative='two-sided')\n",
    "    \n",
    "    # Determine if the improvement is statistically significant\n",
    "    if p_value < 0.05:\n",
    "        return True, p_value\n",
    "    else:\n",
    "        return False, p_value\n",
    "\n",
    "before_mean_wer = 0.7440860951\n",
    "after_mean_wer = 0.7281820568\n",
    "sample_size = 3033\n",
    "\n",
    "is_significant, p_value = significant_improvement(before_mean_wer, after_mean_wer, sample_size)\n",
    "print(\"Is the improvement statistically significant?\", is_significant)\n",
    "print(\"p-value:\", p_value)"
   ]
  },
  {
   "cell_type": "markdown",
   "id": "3c422700-cc8e-495f-a2cb-8455772dcad4",
   "metadata": {},
   "source": [
    "# Welch's t-test"
   ]
  },
  {
   "cell_type": "code",
   "execution_count": 5,
   "id": "9d67c124-4185-4381-b427-5d39f3d89849",
   "metadata": {},
   "outputs": [
    {
     "name": "stdout",
     "output_type": "stream",
     "text": [
      "Is the improvement statistically significant? True\n",
      "p-value: 6.383152395752732e-10\n"
     ]
    }
   ],
   "source": [
    "import numpy as np\n",
    "from scipy.stats import ttest_ind\n",
    "\n",
    "def significant_improvement(before_mean_wer, after_mean_wer, sample_size):\n",
    "    # Generate random data based on mean and sample size (assuming normal distribution)\n",
    "    before_data = np.random.normal(before_mean_wer, 0.1, sample_size)\n",
    "    after_data = np.random.normal(after_mean_wer, 0.1, sample_size)\n",
    "    \n",
    "    # Perform Welch's t-test\n",
    "    t_stat, p_value = ttest_ind(before_data, after_data, equal_var=False)\n",
    "    \n",
    "    # Determine if the improvement is statistically significant\n",
    "    if p_value < 0.05:\n",
    "        return True, p_value\n",
    "    else:\n",
    "        return False, p_value\n",
    "\n",
    "before_mean_wer = 0.7440860951\n",
    "after_mean_wer = 0.7281820568\n",
    "sample_size = 3033\n",
    "\n",
    "is_significant, p_value = significant_improvement(before_mean_wer, after_mean_wer, sample_size)\n",
    "print(\"Is the improvement statistically significant?\", is_significant)\n",
    "print(\"p-value:\", p_value)"
   ]
  },
  {
   "cell_type": "code",
   "execution_count": null,
   "id": "271868d5-91dc-4ead-bd73-6ae321303e5b",
   "metadata": {},
   "outputs": [],
   "source": []
  }
 ],
 "metadata": {
  "kernelspec": {
   "display_name": "Python 3 (ipykernel)",
   "language": "python",
   "name": "python3"
  },
  "language_info": {
   "codemirror_mode": {
    "name": "ipython",
    "version": 3
   },
   "file_extension": ".py",
   "mimetype": "text/x-python",
   "name": "python",
   "nbconvert_exporter": "python",
   "pygments_lexer": "ipython3",
   "version": "3.10.13"
  }
 },
 "nbformat": 4,
 "nbformat_minor": 5
}
