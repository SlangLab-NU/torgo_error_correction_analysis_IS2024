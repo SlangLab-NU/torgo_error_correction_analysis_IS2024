{
 "cells": [
  {
   "cell_type": "code",
   "execution_count": 1,
   "id": "914ca930-3fb1-458e-b55e-1ae4fd93127e",
   "metadata": {},
   "outputs": [
    {
     "name": "stderr",
     "output_type": "stream",
     "text": [
      "/work/van-speech-nlp/jindaznb/asrenv/lib/python3.10/site-packages/transformers/utils/generic.py:260: UserWarning: torch.utils._pytree._register_pytree_node is deprecated. Please use torch.utils._pytree.register_pytree_node instead.\n",
      "  torch.utils._pytree._register_pytree_node(\n",
      "/work/van-speech-nlp/jindaznb/asrenv/lib/python3.10/site-packages/transformers/utils/generic.py:260: UserWarning: torch.utils._pytree._register_pytree_node is deprecated. Please use torch.utils._pytree.register_pytree_node instead.\n",
      "  torch.utils._pytree._register_pytree_node(\n"
     ]
    },
    {
     "name": "stdout",
     "output_type": "stream",
     "text": [
      "\n"
     ]
    }
   ],
   "source": [
    "%run 10_ngram_common.ipynb"
   ]
  },
  {
   "cell_type": "code",
   "execution_count": 2,
   "id": "3201ad51",
   "metadata": {
    "scrolled": true
   },
   "outputs": [
    {
     "name": "stdout",
     "output_type": "stream",
     "text": [
      "0.27.0\n",
      "torgo_xlsr_finetune_F01 - Data Size: 14409\n",
      "torgo_xlsr_finetune_F03 - Data Size: 8568\n",
      "torgo_xlsr_finetune_F04 - Data Size: 9454\n",
      "torgo_xlsr_finetune_M01 - Data Size: 6540\n",
      "torgo_xlsr_finetune_M02 - Data Size: 9790\n",
      "torgo_xlsr_finetune_M03 - Data Size: 9572\n",
      "torgo_xlsr_finetune_M04 - Data Size: 11751\n",
      "torgo_xlsr_finetune_M05 - Data Size: 8853\n",
      "\n",
      "torgo_xlsr_finetune_F01_keep_all - Data Size: 16082\n",
      "torgo_xlsr_finetune_F03_keep_all - Data Size: 16082\n",
      "torgo_xlsr_finetune_F04_keep_all - Data Size: 16082\n",
      "torgo_xlsr_finetune_M01_keep_all - Data Size: 16082\n",
      "torgo_xlsr_finetune_M02_keep_all - Data Size: 16082\n",
      "torgo_xlsr_finetune_M03_keep_all - Data Size: 16082\n",
      "torgo_xlsr_finetune_M04__keep_all - Data Size: 16082\n",
      "torgo_xlsr_finetune_M05_keep_all - Data Size: 16082\n",
      "\n"
     ]
    },
    {
     "name": "stderr",
     "output_type": "stream",
     "text": [
      "/tmp/ipykernel_255663/2601735946.py:8: SettingWithCopyWarning: \n",
      "A value is trying to be set on a copy of a slice from a DataFrame\n",
      "\n",
      "See the caveats in the documentation: https://pandas.pydata.org/pandas-docs/stable/user_guide/indexing.html#returning-a-view-versus-a-copy\n",
      "  word_df.drop(columns=['word_count'], inplace=True)\n",
      "/tmp/ipykernel_255663/2601735946.py:9: SettingWithCopyWarning: \n",
      "A value is trying to be set on a copy of a slice from a DataFrame\n",
      "\n",
      "See the caveats in the documentation: https://pandas.pydata.org/pandas-docs/stable/user_guide/indexing.html#returning-a-view-versus-a-copy\n",
      "  sentence_df.drop(columns=['word_count'], inplace=True)\n",
      "/tmp/ipykernel_255663/2601735946.py:8: SettingWithCopyWarning: \n",
      "A value is trying to be set on a copy of a slice from a DataFrame\n",
      "\n",
      "See the caveats in the documentation: https://pandas.pydata.org/pandas-docs/stable/user_guide/indexing.html#returning-a-view-versus-a-copy\n",
      "  word_df.drop(columns=['word_count'], inplace=True)\n",
      "/tmp/ipykernel_255663/2601735946.py:9: SettingWithCopyWarning: \n",
      "A value is trying to be set on a copy of a slice from a DataFrame\n",
      "\n",
      "See the caveats in the documentation: https://pandas.pydata.org/pandas-docs/stable/user_guide/indexing.html#returning-a-view-versus-a-copy\n",
      "  sentence_df.drop(columns=['word_count'], inplace=True)\n",
      "/tmp/ipykernel_255663/2601735946.py:8: SettingWithCopyWarning: \n",
      "A value is trying to be set on a copy of a slice from a DataFrame\n",
      "\n",
      "See the caveats in the documentation: https://pandas.pydata.org/pandas-docs/stable/user_guide/indexing.html#returning-a-view-versus-a-copy\n",
      "  word_df.drop(columns=['word_count'], inplace=True)\n",
      "/tmp/ipykernel_255663/2601735946.py:9: SettingWithCopyWarning: \n",
      "A value is trying to be set on a copy of a slice from a DataFrame\n",
      "\n",
      "See the caveats in the documentation: https://pandas.pydata.org/pandas-docs/stable/user_guide/indexing.html#returning-a-view-versus-a-copy\n",
      "  sentence_df.drop(columns=['word_count'], inplace=True)\n",
      "/tmp/ipykernel_255663/2601735946.py:8: SettingWithCopyWarning: \n",
      "A value is trying to be set on a copy of a slice from a DataFrame\n",
      "\n",
      "See the caveats in the documentation: https://pandas.pydata.org/pandas-docs/stable/user_guide/indexing.html#returning-a-view-versus-a-copy\n",
      "  word_df.drop(columns=['word_count'], inplace=True)\n",
      "/tmp/ipykernel_255663/2601735946.py:9: SettingWithCopyWarning: \n",
      "A value is trying to be set on a copy of a slice from a DataFrame\n",
      "\n",
      "See the caveats in the documentation: https://pandas.pydata.org/pandas-docs/stable/user_guide/indexing.html#returning-a-view-versus-a-copy\n",
      "  sentence_df.drop(columns=['word_count'], inplace=True)\n",
      "/tmp/ipykernel_255663/2601735946.py:8: SettingWithCopyWarning: \n",
      "A value is trying to be set on a copy of a slice from a DataFrame\n",
      "\n",
      "See the caveats in the documentation: https://pandas.pydata.org/pandas-docs/stable/user_guide/indexing.html#returning-a-view-versus-a-copy\n",
      "  word_df.drop(columns=['word_count'], inplace=True)\n",
      "/tmp/ipykernel_255663/2601735946.py:9: SettingWithCopyWarning: \n",
      "A value is trying to be set on a copy of a slice from a DataFrame\n",
      "\n",
      "See the caveats in the documentation: https://pandas.pydata.org/pandas-docs/stable/user_guide/indexing.html#returning-a-view-versus-a-copy\n",
      "  sentence_df.drop(columns=['word_count'], inplace=True)\n",
      "/tmp/ipykernel_255663/2601735946.py:8: SettingWithCopyWarning: \n",
      "A value is trying to be set on a copy of a slice from a DataFrame\n",
      "\n",
      "See the caveats in the documentation: https://pandas.pydata.org/pandas-docs/stable/user_guide/indexing.html#returning-a-view-versus-a-copy\n",
      "  word_df.drop(columns=['word_count'], inplace=True)\n",
      "/tmp/ipykernel_255663/2601735946.py:9: SettingWithCopyWarning: \n",
      "A value is trying to be set on a copy of a slice from a DataFrame\n",
      "\n",
      "See the caveats in the documentation: https://pandas.pydata.org/pandas-docs/stable/user_guide/indexing.html#returning-a-view-versus-a-copy\n",
      "  sentence_df.drop(columns=['word_count'], inplace=True)\n",
      "/tmp/ipykernel_255663/2601735946.py:8: SettingWithCopyWarning: \n",
      "A value is trying to be set on a copy of a slice from a DataFrame\n",
      "\n",
      "See the caveats in the documentation: https://pandas.pydata.org/pandas-docs/stable/user_guide/indexing.html#returning-a-view-versus-a-copy\n",
      "  word_df.drop(columns=['word_count'], inplace=True)\n",
      "/tmp/ipykernel_255663/2601735946.py:9: SettingWithCopyWarning: \n",
      "A value is trying to be set on a copy of a slice from a DataFrame\n",
      "\n",
      "See the caveats in the documentation: https://pandas.pydata.org/pandas-docs/stable/user_guide/indexing.html#returning-a-view-versus-a-copy\n",
      "  sentence_df.drop(columns=['word_count'], inplace=True)\n",
      "/tmp/ipykernel_255663/2601735946.py:8: SettingWithCopyWarning: \n",
      "A value is trying to be set on a copy of a slice from a DataFrame\n",
      "\n",
      "See the caveats in the documentation: https://pandas.pydata.org/pandas-docs/stable/user_guide/indexing.html#returning-a-view-versus-a-copy\n",
      "  word_df.drop(columns=['word_count'], inplace=True)\n",
      "/tmp/ipykernel_255663/2601735946.py:9: SettingWithCopyWarning: \n",
      "A value is trying to be set on a copy of a slice from a DataFrame\n",
      "\n",
      "See the caveats in the documentation: https://pandas.pydata.org/pandas-docs/stable/user_guide/indexing.html#returning-a-view-versus-a-copy\n",
      "  sentence_df.drop(columns=['word_count'], inplace=True)\n",
      "/tmp/ipykernel_255663/2601735946.py:20: SettingWithCopyWarning: \n",
      "A value is trying to be set on a copy of a slice from a DataFrame\n",
      "\n",
      "See the caveats in the documentation: https://pandas.pydata.org/pandas-docs/stable/user_guide/indexing.html#returning-a-view-versus-a-copy\n",
      "  word_df.drop(columns=['word_count'], inplace=True)\n",
      "/tmp/ipykernel_255663/2601735946.py:21: SettingWithCopyWarning: \n",
      "A value is trying to be set on a copy of a slice from a DataFrame\n",
      "\n",
      "See the caveats in the documentation: https://pandas.pydata.org/pandas-docs/stable/user_guide/indexing.html#returning-a-view-versus-a-copy\n",
      "  sentence_df.drop(columns=['word_count'], inplace=True)\n",
      "/tmp/ipykernel_255663/2601735946.py:20: SettingWithCopyWarning: \n",
      "A value is trying to be set on a copy of a slice from a DataFrame\n",
      "\n",
      "See the caveats in the documentation: https://pandas.pydata.org/pandas-docs/stable/user_guide/indexing.html#returning-a-view-versus-a-copy\n",
      "  word_df.drop(columns=['word_count'], inplace=True)\n",
      "/tmp/ipykernel_255663/2601735946.py:21: SettingWithCopyWarning: \n",
      "A value is trying to be set on a copy of a slice from a DataFrame\n",
      "\n",
      "See the caveats in the documentation: https://pandas.pydata.org/pandas-docs/stable/user_guide/indexing.html#returning-a-view-versus-a-copy\n",
      "  sentence_df.drop(columns=['word_count'], inplace=True)\n",
      "/tmp/ipykernel_255663/2601735946.py:20: SettingWithCopyWarning: \n",
      "A value is trying to be set on a copy of a slice from a DataFrame\n",
      "\n",
      "See the caveats in the documentation: https://pandas.pydata.org/pandas-docs/stable/user_guide/indexing.html#returning-a-view-versus-a-copy\n",
      "  word_df.drop(columns=['word_count'], inplace=True)\n",
      "/tmp/ipykernel_255663/2601735946.py:21: SettingWithCopyWarning: \n",
      "A value is trying to be set on a copy of a slice from a DataFrame\n",
      "\n",
      "See the caveats in the documentation: https://pandas.pydata.org/pandas-docs/stable/user_guide/indexing.html#returning-a-view-versus-a-copy\n",
      "  sentence_df.drop(columns=['word_count'], inplace=True)\n",
      "/tmp/ipykernel_255663/2601735946.py:20: SettingWithCopyWarning: \n",
      "A value is trying to be set on a copy of a slice from a DataFrame\n",
      "\n",
      "See the caveats in the documentation: https://pandas.pydata.org/pandas-docs/stable/user_guide/indexing.html#returning-a-view-versus-a-copy\n",
      "  word_df.drop(columns=['word_count'], inplace=True)\n",
      "/tmp/ipykernel_255663/2601735946.py:21: SettingWithCopyWarning: \n",
      "A value is trying to be set on a copy of a slice from a DataFrame\n",
      "\n",
      "See the caveats in the documentation: https://pandas.pydata.org/pandas-docs/stable/user_guide/indexing.html#returning-a-view-versus-a-copy\n",
      "  sentence_df.drop(columns=['word_count'], inplace=True)\n",
      "/tmp/ipykernel_255663/2601735946.py:20: SettingWithCopyWarning: \n",
      "A value is trying to be set on a copy of a slice from a DataFrame\n",
      "\n",
      "See the caveats in the documentation: https://pandas.pydata.org/pandas-docs/stable/user_guide/indexing.html#returning-a-view-versus-a-copy\n",
      "  word_df.drop(columns=['word_count'], inplace=True)\n",
      "/tmp/ipykernel_255663/2601735946.py:21: SettingWithCopyWarning: \n",
      "A value is trying to be set on a copy of a slice from a DataFrame\n",
      "\n",
      "See the caveats in the documentation: https://pandas.pydata.org/pandas-docs/stable/user_guide/indexing.html#returning-a-view-versus-a-copy\n",
      "  sentence_df.drop(columns=['word_count'], inplace=True)\n",
      "/tmp/ipykernel_255663/2601735946.py:20: SettingWithCopyWarning: \n",
      "A value is trying to be set on a copy of a slice from a DataFrame\n",
      "\n",
      "See the caveats in the documentation: https://pandas.pydata.org/pandas-docs/stable/user_guide/indexing.html#returning-a-view-versus-a-copy\n",
      "  word_df.drop(columns=['word_count'], inplace=True)\n",
      "/tmp/ipykernel_255663/2601735946.py:21: SettingWithCopyWarning: \n",
      "A value is trying to be set on a copy of a slice from a DataFrame\n",
      "\n",
      "See the caveats in the documentation: https://pandas.pydata.org/pandas-docs/stable/user_guide/indexing.html#returning-a-view-versus-a-copy\n",
      "  sentence_df.drop(columns=['word_count'], inplace=True)\n",
      "/tmp/ipykernel_255663/2601735946.py:20: SettingWithCopyWarning: \n",
      "A value is trying to be set on a copy of a slice from a DataFrame\n",
      "\n",
      "See the caveats in the documentation: https://pandas.pydata.org/pandas-docs/stable/user_guide/indexing.html#returning-a-view-versus-a-copy\n",
      "  word_df.drop(columns=['word_count'], inplace=True)\n",
      "/tmp/ipykernel_255663/2601735946.py:21: SettingWithCopyWarning: \n",
      "A value is trying to be set on a copy of a slice from a DataFrame\n",
      "\n",
      "See the caveats in the documentation: https://pandas.pydata.org/pandas-docs/stable/user_guide/indexing.html#returning-a-view-versus-a-copy\n",
      "  sentence_df.drop(columns=['word_count'], inplace=True)\n",
      "/tmp/ipykernel_255663/2601735946.py:20: SettingWithCopyWarning: \n",
      "A value is trying to be set on a copy of a slice from a DataFrame\n",
      "\n",
      "See the caveats in the documentation: https://pandas.pydata.org/pandas-docs/stable/user_guide/indexing.html#returning-a-view-versus-a-copy\n",
      "  word_df.drop(columns=['word_count'], inplace=True)\n",
      "/tmp/ipykernel_255663/2601735946.py:21: SettingWithCopyWarning: \n",
      "A value is trying to be set on a copy of a slice from a DataFrame\n",
      "\n",
      "See the caveats in the documentation: https://pandas.pydata.org/pandas-docs/stable/user_guide/indexing.html#returning-a-view-versus-a-copy\n",
      "  sentence_df.drop(columns=['word_count'], inplace=True)\n"
     ]
    },
    {
     "name": "stdout",
     "output_type": "stream",
     "text": [
      "torgo_xlsr_finetune_F01_keep_all - Data Size: 12129\n",
      "torgo_xlsr_finetune_F03_keep_all - Data Size: 12129\n",
      "torgo_xlsr_finetune_F04_keep_all - Data Size: 12129\n",
      "torgo_xlsr_finetune_M01_keep_all - Data Size: 12115\n",
      "torgo_xlsr_finetune_M02_keep_all - Data Size: 12129\n",
      "torgo_xlsr_finetune_M03_keep_all - Data Size: 12129\n",
      "torgo_xlsr_finetune_M04__keep_all - Data Size: 12129\n",
      "torgo_xlsr_finetune_M05_keep_all - Data Size: 12129\n",
      "\n",
      "torgo_xlsr_finetune_F01 - Data Size: 10795\n",
      "torgo_xlsr_finetune_F03 - Data Size: 6813\n",
      "torgo_xlsr_finetune_F04 - Data Size: 7482\n",
      "torgo_xlsr_finetune_M01 - Data Size: 4404\n",
      "torgo_xlsr_finetune_M02 - Data Size: 7687\n",
      "torgo_xlsr_finetune_M03 - Data Size: 7480\n",
      "torgo_xlsr_finetune_M04 - Data Size: 9139\n",
      "torgo_xlsr_finetune_M05 - Data Size: 7178\n",
      "\n",
      "torgo_xlsr_finetune_F01_keep_all - Data Size: 336\n",
      "torgo_xlsr_finetune_F03_keep_all - Data Size: 328\n",
      "torgo_xlsr_finetune_F04_keep_all - Data Size: 296\n",
      "torgo_xlsr_finetune_M01_keep_all - Data Size: 399\n",
      "torgo_xlsr_finetune_M02_keep_all - Data Size: 534\n",
      "torgo_xlsr_finetune_M03_keep_all - Data Size: 288\n",
      "torgo_xlsr_finetune_M04__keep_all - Data Size: 449\n",
      "torgo_xlsr_finetune_M05_keep_all - Data Size: 452\n",
      "\n",
      "torgo_xlsr_finetune_F01 - Data Size: 305\n",
      "torgo_xlsr_finetune_F03 - Data Size: 356\n",
      "torgo_xlsr_finetune_F04 - Data Size: 340\n",
      "torgo_xlsr_finetune_M01 - Data Size: 352\n",
      "torgo_xlsr_finetune_M02 - Data Size: 405\n",
      "torgo_xlsr_finetune_M03 - Data Size: 285\n",
      "torgo_xlsr_finetune_M04 - Data Size: 432\n",
      "torgo_xlsr_finetune_M05 - Data Size: 404\n",
      "\n",
      "torgo_xlsr_finetune_F01 - Data Size: 283\n",
      "torgo_xlsr_finetune_F03 - Data Size: 327\n",
      "torgo_xlsr_finetune_F04 - Data Size: 317\n",
      "torgo_xlsr_finetune_M01 - Data Size: 336\n",
      "torgo_xlsr_finetune_M02 - Data Size: 394\n",
      "torgo_xlsr_finetune_M03 - Data Size: 264\n",
      "torgo_xlsr_finetune_M04 - Data Size: 412\n",
      "torgo_xlsr_finetune_M05 - Data Size: 385\n",
      "\n",
      "torgo_xlsr_finetune_F01 - Data Size: 283\n",
      "torgo_xlsr_finetune_F03 - Data Size: 327\n",
      "torgo_xlsr_finetune_F04 - Data Size: 317\n",
      "torgo_xlsr_finetune_M01 - Data Size: 336\n",
      "torgo_xlsr_finetune_M02 - Data Size: 394\n",
      "torgo_xlsr_finetune_M03 - Data Size: 264\n",
      "torgo_xlsr_finetune_M04 - Data Size: 412\n",
      "torgo_xlsr_finetune_M05 - Data Size: 385\n",
      "\n",
      "Speaker: torgo_xlsr_finetune_F01\n",
      "Word Error Rate (WER): 61.62%\n",
      "Character Error Rate (CER): 48.89%\n",
      "\n",
      "Speaker: torgo_xlsr_finetune_F03\n",
      "Word Error Rate (WER): 61.68%\n",
      "Character Error Rate (CER): 49.80%\n",
      "\n",
      "Speaker: torgo_xlsr_finetune_F04\n",
      "Word Error Rate (WER): 47.35%\n",
      "Character Error Rate (CER): 37.70%\n",
      "\n",
      "Speaker: torgo_xlsr_finetune_M01\n",
      "Word Error Rate (WER): 55.68%\n",
      "Character Error Rate (CER): 42.22%\n",
      "\n",
      "Speaker: torgo_xlsr_finetune_M02\n",
      "Word Error Rate (WER): 68.28%\n",
      "Character Error Rate (CER): 54.30%\n",
      "\n",
      "Speaker: torgo_xlsr_finetune_M03\n",
      "Word Error Rate (WER): 53.70%\n",
      "Character Error Rate (CER): 42.24%\n",
      "\n",
      "Speaker: torgo_xlsr_finetune_M04\n",
      "Word Error Rate (WER): 66.33%\n",
      "Character Error Rate (CER): 52.16%\n",
      "\n",
      "Speaker: torgo_xlsr_finetune_M05\n",
      "Word Error Rate (WER): 63.00%\n",
      "Character Error Rate (CER): 50.48%\n",
      "\n",
      "torgo_xlsr_finetune_F01_keep_all - Data Size: 318\n",
      "torgo_xlsr_finetune_F03_keep_all - Data Size: 311\n",
      "torgo_xlsr_finetune_F04_keep_all - Data Size: 279\n",
      "torgo_xlsr_finetune_M01_keep_all - Data Size: 370\n",
      "torgo_xlsr_finetune_M02_keep_all - Data Size: 519\n",
      "torgo_xlsr_finetune_M03_keep_all - Data Size: 280\n",
      "torgo_xlsr_finetune_M04__keep_all - Data Size: 420\n",
      "torgo_xlsr_finetune_M05_keep_all - Data Size: 430\n",
      "\n",
      "Speaker: torgo_xlsr_finetune_F01_keep_all\n",
      "Word Error Rate (WER): 64.39%\n",
      "Character Error Rate (CER): 49.83%\n",
      "\n",
      "Speaker: torgo_xlsr_finetune_F03_keep_all\n",
      "Word Error Rate (WER): 63.57%\n",
      "Character Error Rate (CER): 50.07%\n",
      "\n",
      "Speaker: torgo_xlsr_finetune_F04_keep_all\n",
      "Word Error Rate (WER): 63.20%\n",
      "Character Error Rate (CER): 49.67%\n",
      "\n",
      "Speaker: torgo_xlsr_finetune_M01_keep_all\n",
      "Word Error Rate (WER): 61.05%\n",
      "Character Error Rate (CER): 47.31%\n",
      "\n",
      "Speaker: torgo_xlsr_finetune_M02_keep_all\n",
      "Word Error Rate (WER): 67.02%\n",
      "Character Error Rate (CER): 51.25%\n",
      "\n",
      "Speaker: torgo_xlsr_finetune_M03_keep_all\n",
      "Word Error Rate (WER): 64.69%\n",
      "Character Error Rate (CER): 50.59%\n",
      "\n",
      "Speaker: torgo_xlsr_finetune_M04__keep_all\n",
      "Word Error Rate (WER): 68.75%\n",
      "Character Error Rate (CER): 54.22%\n",
      "\n",
      "Speaker: torgo_xlsr_finetune_M05_keep_all\n",
      "Word Error Rate (WER): 64.46%\n",
      "Character Error Rate (CER): 53.12%\n",
      "\n"
     ]
    }
   ],
   "source": [
    "%run 11_prepare_torgo_dataset.ipynb"
   ]
  },
  {
   "cell_type": "code",
   "execution_count": 3,
   "id": "27dfba4b-1a68-4559-bcf7-950a8e892d2f",
   "metadata": {},
   "outputs": [],
   "source": [
    "import os\n",
    "input_dataset = \"dataset_phonemes.txt\"\n",
    "output_directory = \"output_directory/\"\n",
    "output_model_base = \"output_model.klm\"\n",
    "\n",
    "# Create the output directory if it doesn't exist\n",
    "if not os.path.exists(output_directory):\n",
    "    os.makedirs(output_directory)\n",
    "\n",
    "# Ngram size options\n",
    "order_trigram = 3\n",
    "order_unigram = 1"
   ]
  },
  {
   "cell_type": "code",
   "execution_count": 5,
   "id": "b66226b3-3c5c-478b-b7a7-a382f8a05a79",
   "metadata": {},
   "outputs": [
    {
     "name": "stdout",
     "output_type": "stream",
     "text": [
      "/home/osx/Documents/research/slang-ra/torgo_inference_on_cluster/JamSpell/build/kenlm/util/file.cc:76 in int util::OpenReadOrThrow(const char*) threw ErrnoException because `-1 == (ret = open(name, 00))'.\n",
      "No such file or directory while opening output_directory/output_model.klm_trigram.arpa\n",
      "ERROR\n",
      "=== 1/5 Counting and sorting n-grams ===\n",
      "Reading /home/osx/Documents/research/slang-ra/torgo_inference_on_cluster/dataset_phonemes.txt\n",
      "----5---10---15---20---25---30---35---40---45---50---55---60---65---70---75---80---85---90---95--100\n",
      "****************************************************************************************************\n",
      "Unigram tokens 635344 types 42\n",
      "=== 2/5 Calculating and sorting adjusted counts ===\n",
      "Chain sizes: 1:504 2:10482238464 3:19654197248\n",
      "Substituting fallback discounts for order 0: D1=0.5 D2=1 D3+=1.5\n",
      "Statistics:\n",
      "1 42 D1=0.5 D2=1 D3+=1.5\n",
      "2 1280 D1=0.420074 D2=0.998284 D3+=1.12999\n",
      "3 16435 D1=0.483725 D2=1.009 D3+=1.52672\n",
      "Memory estimate for binary LM:\n",
      "type     kB\n",
      "probing 319 assuming -p 1.5\n",
      "probing 327 assuming -r models -p 1.5\n",
      "trie     88 without quantization\n",
      "trie     37 assuming -q 8 -b 8 quantization \n",
      "trie     87 assuming -a 22 array pointer compression\n",
      "trie     37 assuming -a 22 -q 8 -b 8 array pointer compression and quantization\n",
      "=== 3/5 Calculating and sorting initial probabilities ===\n",
      "Chain sizes: 1:504 2:20480 3:328700\n",
      "----5---10---15---20---25---30---35---40---45---50---55---60---65---70---75---80---85---90---95--100\n",
      "####################################################################################################\n",
      "=== 4/5 Calculating and writing order-interpolated probabilities ===\n",
      "Chain sizes: 1:504 2:20480 3:328700\n",
      "----5---10---15---20---25---30---35---40---45---50---55---60---65---70---75---80---85---90---95--100\n",
      "####################################################################################################\n",
      "=== 5/5 Writing ARPA model ===\n",
      "----5---10---15---20---25---30---35---40---45---50---55---60---65---70---75---80---85---90---95--100\n",
      "****************************************************************************************************\n",
      "Name:lmplz\tVmPeak:29578364 kB\tVmRSS:6260 kB\tRSSMax:6791756 kB\tuser:0.379488\tsys:1.73766\tCPU:2.11717\treal:2.12043\n"
     ]
    }
   ],
   "source": [
    "# !kenlm/build/bin/lmplz -o 3    --text dataset_phonemes.txt     --arpa output_directory/output_model.klm_trigram.arpa     --discount_fallback --skip_symbols|     kenlm/build/bin/build_binary     -T /dev/stdin output_directory/output_model.klm_trigram.arpa"
   ]
  },
  {
   "cell_type": "markdown",
   "id": "06d05e0b-b5f4-4624-a685-d99b507e0cad",
   "metadata": {},
   "source": [
    "# compress model file"
   ]
  },
  {
   "cell_type": "code",
   "execution_count": 7,
   "id": "90f1ac4d-81e7-4f47-bd40-eb18540eff48",
   "metadata": {},
   "outputs": [
    {
     "name": "stdout",
     "output_type": "stream",
     "text": [
      "Reading output_directory/output_model.klm_trigram.arpa\n",
      "----5---10---15---20---25---30---35---40---45---50---55---60---65---70---75---80---85---90---95--100\n",
      "****************************************************************************************************\n",
      "SUCCESS\n"
     ]
    }
   ],
   "source": [
    "# !kenlm/build/bin/build_binary\\\n",
    "#     output_directory/output_model.klm_trigram.arpa \\\n",
    "#     output_directory/output_model.klm_trigram.klm"
   ]
  },
  {
   "cell_type": "code",
   "execution_count": 9,
   "id": "b4202fad-c53f-4b09-827d-5823e571feb3",
   "metadata": {},
   "outputs": [
    {
     "name": "stdout",
     "output_type": "stream",
     "text": [
      "Vocabulary: {'1=42', '3=16435', '2=1280'}\n",
      "Vocabulary: {'1=42', '3=16435', '2=1280'}\n"
     ]
    }
   ],
   "source": [
    "arpa_path = \"output_directory/output_model.klm_trigram.arpa\"\n",
    "vocabulary = get_vocabulary_from_arpa(arpa_path)\n",
    "# Print or use the vocabulary as needed\n",
    "print(\"Vocabulary:\", vocabulary)\n",
    "# Tokens to add\n",
    "new_tokens = [\"<pad>\", \"<sil>\", \"<spn>\"]\n",
    "# Tokens to exclude\n",
    "tokens_to_exclude = [\"<s>\", \"</s>\"]\n",
    "# Add tokens to the ARPA file excluding the specified tokens\n",
    "add_tokens_to_arpa(arpa_path, new_tokens, tokens_to_exclude)\n",
    "vocabulary = get_vocabulary_from_arpa(arpa_path)\n",
    "\n",
    "# Print or use the vocabulary as needed\n",
    "print(\"Vocabulary:\", vocabulary)"
   ]
  },
  {
   "cell_type": "code",
   "execution_count": 4,
   "id": "79cf5ac6",
   "metadata": {},
   "outputs": [
    {
     "name": "stdout",
     "output_type": "stream",
     "text": [
      "/work/van-speech-nlp/jindaznb/jslpnb/torgo_error_correction/JamSpell\n",
      "[Errno 2] No such file or directory: 'build'\n",
      "/work/van-speech-nlp/jindaznb/jslpnb/torgo_error_correction/JamSpell\n"
     ]
    }
   ],
   "source": [
    "%cd JamSpell\n",
    "%cd build"
   ]
  },
  {
   "cell_type": "markdown",
   "id": "1a6c1bc8",
   "metadata": {},
   "source": [
    "# train JamSpell"
   ]
  },
  {
   "cell_type": "code",
   "execution_count": 26,
   "id": "2279e63e-51fe-407d-82e7-1cb213e28fd0",
   "metadata": {},
   "outputs": [
    {
     "name": "stdout",
     "output_type": "stream",
     "text": [
      "[info] loading text\n",
      "[info] generating N-grams 1\n",
      "[info] generating keys\n",
      "[info] ngrams1: 39\n",
      "[info] ngrams2: 1228\n",
      "[info] ngrams3: 17135\n",
      "[info] total: 18402\n",
      "[info] generating perf hash\n",
      "[info] finished, buckets: 23003\n",
      "[info] buckets filled\n"
     ]
    }
   ],
   "source": [
    "!./main/jamspell train ../test_data/alphabet_en.txt ../test_data/dataset_phonemes.txt model_euro.bin"
   ]
  },
  {
   "cell_type": "markdown",
   "id": "b1ef5955",
   "metadata": {},
   "source": [
    "# evaluate JamSpell"
   ]
  },
  {
   "cell_type": "code",
   "execution_count": 8,
   "id": "87ee6432",
   "metadata": {},
   "outputs": [
    {
     "name": "stdout",
     "output_type": "stream",
     "text": [
      "\u001b[33mWARNING: Package(s) not found: jamspell\u001b[0m\u001b[33m\n",
      "\u001b[0m"
     ]
    }
   ],
   "source": [
    "# !python ../evaluate/evaluate.py\\\n",
    "# \t -a ../test_data/alphabet_en.txt\\\n",
    "# \t -jsp model_torgo.bin\\\n",
    "# \t -mx 50000 ../test_data/dataset_phonemes.txt\n",
    "!pip show jamspell"
   ]
  },
  {
   "cell_type": "code",
   "execution_count": 7,
   "id": "74c9095a",
   "metadata": {},
   "outputs": [
    {
     "ename": "AttributeError",
     "evalue": "module 'jamspell' has no attribute 'TSpellCorrector'",
     "output_type": "error",
     "traceback": [
      "\u001b[0;31m---------------------------------------------------------------------------\u001b[0m",
      "\u001b[0;31mAttributeError\u001b[0m                            Traceback (most recent call last)",
      "Cell \u001b[0;32mIn[7], line 3\u001b[0m\n\u001b[1;32m      1\u001b[0m \u001b[38;5;28;01mimport\u001b[39;00m \u001b[38;5;21;01mjamspell\u001b[39;00m\n\u001b[0;32m----> 3\u001b[0m corrector \u001b[38;5;241m=\u001b[39m \u001b[43mjamspell\u001b[49m\u001b[38;5;241;43m.\u001b[39;49m\u001b[43mTSpellCorrector\u001b[49m()\n\u001b[1;32m      4\u001b[0m corrector\u001b[38;5;241m.\u001b[39mLoadLangModel(\u001b[38;5;124m'\u001b[39m\u001b[38;5;124mmodel_torgo.bin\u001b[39m\u001b[38;5;124m'\u001b[39m)\n\u001b[1;32m      6\u001b[0m corrector\u001b[38;5;241m.\u001b[39mFixFragment(\u001b[38;5;124m'\u001b[39m\u001b[38;5;124mEY P\u001b[39m\u001b[38;5;124m'\u001b[39m)\n",
      "\u001b[0;31mAttributeError\u001b[0m: module 'jamspell' has no attribute 'TSpellCorrector'"
     ]
    }
   ],
   "source": [
    "import jamspell\n",
    "\n",
    "corrector = jamspell.TSpellCorrector()\n",
    "corrector.LoadLangModel('model_torgo.bin')\n",
    "\n",
    "corrector.FixFragment('EY P')"
   ]
  },
  {
   "cell_type": "code",
   "execution_count": 16,
   "id": "0b22ae62",
   "metadata": {},
   "outputs": [
    {
     "name": "stdout",
     "output_type": "stream",
     "text": [
      "torgo_xlsr_finetune_M04 - Data Size: 412\n",
      "torgo_xlsr_finetune_M02 - Data Size: 394\n",
      "torgo_xlsr_finetune_F03 - Data Size: 327\n",
      "torgo_xlsr_finetune_M05 - Data Size: 385\n",
      "torgo_xlsr_finetune_M03 - Data Size: 264\n",
      "torgo_xlsr_finetune_F01 - Data Size: 283\n",
      "torgo_xlsr_finetune_M01 - Data Size: 336\n",
      "torgo_xlsr_finetune_F04 - Data Size: 317\n",
      "\n"
     ]
    }
   ],
   "source": [
    "print_dataframe_sizes(dataframes_word_no_keep_all_phoneme)"
   ]
  },
  {
   "cell_type": "code",
   "execution_count": 14,
   "id": "d46e400d",
   "metadata": {},
   "outputs": [
    {
     "name": "stdout",
     "output_type": "stream",
     "text": [
      "predictions_list: ['S W IY T', 'F AY', 'EY P', 'HH AA', 'T UW', 'G EH Z', 'G EH S', 'K ER S K', 'AY', 'W AO L   AA R M', 'SH IY T', 'IH G AH T', 'SH AY', 'L IH K', 'W IH CH', 'IH', 'R IH L AE K S', 'OW', 'D AA R', 'EH L', 'AY T AH', 'R IH T', 'DH EY   W IH L   T AE K IY', 'S IY', 'R UW K', 'Z IY', 'Z IY', 'R IH P', 'R IH TH', 'S T IY D', 'T S AA M', 'W IY F', 'S T AO R M', 'W ER M K', 'M IY F', 'DH AE T   IH Z', 'T R EY', 'S T IH K', 'S T IY K', 'R EY F', 'B AH K', 'T R AY T', 'S IH P', 'S P AE N CH', 'T R IY T', 'T AH M', 'D IH K AH N', 'B EH T AE T', 'SH AY', 'G EH T   B IY T', 'G AA L F', 'R IY K', 'G EY B AH L', 'D AA R K', 'B AH N', 'D EY', 'B AA N', 'TH R IY', 'M EY JH', 'S T AA R T', 'HH AH N T', 'F AO R T', 'G AA L F', 'M AH M B IY', 'G AA SH', 'R EY K', 'F IH R', 'T IH P', 'AH P', 'T R EY N', 'L EY', 'W AO R K', 'T EH K N T', 'G IY T', 'T IH M B', 'F IH', 'EH R', 'S T R IY T', 'R IH K', 'D R IH N', 'R AE K', 'S T R EH S', 'T AA R K', 'F AO R K', 'OW', 'D UW L F', 'S W AO R M', 'AO R M', 'L IH P', 'S K EH R', 'F IH L', 'DH AE T   W IH CH', 'L AO F', 'HH AA R M', 'HH AH M', 'D IH T', 'T IY K', 'L EY', 'N IY', 'D R IY T', 'R IH NG', 'D EY B AH L', 'B AH NG K', 'D IH G', 'B UW TH', 'B AA N', 'G AA L F', 'S AY', 'AE K', 'D AE K', 'HH IY T', 'F AY L', 'W IH K ER', 'G L AY P', 'L IH P', 'S P IH R', 'IH L', 'F L AO R M', 'K IY AA L OW S', 'R OW T', 'L AA K', 'B AE K', 'L IH F IY L IH F', 'W IH CH', 'B UW T', 'M EY N Y UW', 'EH M', 'L IH K T', 'Y EH S', 'SH IH R', 'F IH L', 'B AY', 'R IY G AH N', 'HH AW S T', 'L AA K', 'L AA K S', 'L IY', 'S IH G OW L F', 'SH UW P', 'L UW P IY', 'G IH R', 'SH ER', 'B UW T', 'CH IH R', 'G UW S', 'AY R AH S', 'DH EY   N OW L F', 'S L IH K', 'D AE D', 'B IY', 'G R UW P', 'T UW', 'T IY', 'CH EH L IY', 'AY T AH L', 'AY JH', 'TH AO R N', 'JH EH', 'B AA K S', 'B L OW', 'B IH T IY N JH AH', 'B EH N T', 'EY', 'W ER M', 'T EH K AH', 'B IY T', 'T AH M B OW', 'F IH CH', 'S T R EY T', 'R EY K', 'D R IH NG K', 'R IH NG K', 'JH EH R T S', 'S AA K', 'F AO R TH', 'T R AE P', 'T R IH F T', 'S W AO R K', 'T AO R M', 'D IH P', 'S K AA R K', 'T IH L', 'G EH T   G IH CH', 'L OW', 'P AO R K', 'TH AO R N', 'T AO R K', 'T IH K ER', 'L EY D', 'N IY F', 'T R IY T', 'R EY N', 'D IY B AH L', 'B ER K', 'D IH G Z', 'M AO R F', 'AY AH N', 'TH OW L F', 'AY', 'B AH K', 'B AE K', 'B IH T', 'B IH L', 'HH IH T', 'B AY L', 'W ER', 'W IH K', 'W IH R AH L', 'G L IH P', 'S T UW P', 'P IY T', 'AY', 'F L AO R', 'Z UW', 'F OY T', 'K L AA K', 'B IH L', 'B EH T', 'W IH T K', 'B IH T', 'M AE N Y UW', 'EH L', 'L AY T', 'EH S', 'SH ER', 'F AY L', 'B IH T AH L', 'R EH G AH N', 'HH AW T', 'L AE K', 'L EY', 'G AA L F', 'CH UW P', 'L AY P', 'JH IH T', 'SH IH R', 'F UW D', 'F IH R', 'G UW P', 'IH R AA N', 'S IY', 'S L IH P', 'D AE T', 'B IH T', 'K UW P', 'T W OW T', 'F IH T', 'K AY', 'IH T AH L', 'AY', 'TH AA N', 'W AH N   TH T R IY EH N S T   AH P S', 'Y EH S', 'AA K S', 'L AY AH L', 'IH T B IH G T IH NG', 'T AE TH W OW', 'B R AE G', 'F L IY T', 'TH R OW', 'F L AO R', 'W IH M', 'B AA S TH', 'B UW T', 'B UW T', 'HH AE T', 'B IY P', 'L AO R K', 'D AA R K', 'Y UW', 'DH OW', 'B R AA G', 'S W ER T', 'S IY', 'SH IH P', 'CH OW', 'L UW', 'S ER T', 'F R UW T', 'G AA L F', 'IH P', 'CH IH R', 'EY CH', 'SH UW T', 'R AO T', 'S N AA K T', 'S P AA R', 'K OW AA T', 'S ER N', 'P R AE T', 'W IY R   R IH T AH N', 'S IY', 'T ER M', 'M AH CH', 'F IY D', 'TH R IY', 'S P AA R N', 'F AA R M', 'V AY ER', 'S P L IH T', 'TH R AA N D', 'M R IH T AH N', 'B AH N', 'P IH P', 'HH EH M T IY', 'F OW', 'S P AA R K', 'S EH V ER N', 'B R AO T', 'F AE P', 'R IY K', 'TH R EH T IY', 'S N IH T IH NG', 'R IH T IY', 'S T IH G N', 'M IY', 'B AA R N', 'L AY T', 'L IY AH', 'S P L IH P', 'SH AE D', 'HH EH T IH NG', 'K IH T IH NG', 'D R AY V', 'D IY', 'Z EH R AH', 'S L IY EH R AH', 'P R IH P', 'G IH S T', 'T IH P', 'TH R EH S', 'B AA', 'P AA R T', 'B ER D', 'M EH R OW', 'S IY', 'M AH SH', 'K AO R T', 'EH S', 'TH R EH D', 'SH R AA T', 'F AO R K', 'IY EY P IY', 'K IH L AH M', 'B AE T', 'F AE T', 'B UW T ER', 'M IY T', 'D AA R K', 'IH P', 'T W OW', 'TH AH G', 'K AE SH', 'N AY F', 'T IY', 'G AA L F', 'T EH NG', 'S IH N T', 'F OW L K IH K ER', 'S K AY', 'F AO R T', 'V R IH K T ER', 'TH R EY', 'N AO R K', 'B AH G T', 'S IH P', 'IH NG K', 'S IH M', 'SH IY', 'HH IY', 'N AY F', 'K AE T', 'S IY P', 'T ER', 'K OW', 'SH AO R T', 'TH AO T', 'SH AA P', 'L EH N D', 'Z IY R AH', 'P R IH T', 'N AA K', 'B R AO T', 'M IH R OW', 'M AH N CH', 'R AY N', 'F R EH D', 'SH R EH T', 'SH L IH NG', 'B R EH D', 'SH UW', 'T AA P', 'B AO R', 'S UW T', 'D AA R T', 'S T AA P', 'D AE SH', 'SH R IH T', 'N AO R T', 'SH IH P', 'S AY N', 'R IY K', 'HH ER', 'R EY K', 'HH IY P', 'S AW TH IY S T', 'S AA R T', 'R EY K', 'T IH P', 'N AH S T', 'R EH JH', 'S AW TH IY S T']\n",
      "SPEAKER: torgo_xlsr_finetune_M04\n",
      "WER: 67.66%\n",
      "CER: 52.92%\n",
      "===================\n",
      "predictions_list: ['S IY T', 'S W IY T', 'F L AO R L AO R', 'EY P', 'R IH G T', 'CH AE L', 'P AE T AH L', 'AE T', 'P EY L', 'EY G T', 'B IY F S', 'G Y UW T S', 'AA K', 'AA K', 'T IH K S', 'W AO R M', 'F L AO R', 'W IH S', 'S IY', 'OW', 'T EY W IH L T AH   W EH D IH N T R IH P   EY T ER', 'S IY', 'AY T AH', 'N AW', 'AY T', 'R IH TH', 'F UH L', 'IY G T', 'R IH T', 'R OW', 'AH P', 'R AY N D', 'HH EH R', 'AA R B OW', 'T R AE V B AH L', 'R EH D', 'P AE L', 'K R AO L', 'R IH G T', 'TH AE P', 'T R EY', 'P AA N D', 'T OW', 'N AY T', 'B UW N', 'R EH N CH', 'T AA B OW', 'T UW', 'G L OW', 'W AO R M', 'S W AO R M', 'JH AE K AH', 'R EH N CH', 'HH EY L', 'K EY S ER', 'K AO R M', 'D R EH G', 'T R EH SH', 'EH R OW', 'AH P', 'R EH JH AH M', 'L IH P', 'CH IH R AH', 'EH R   W OW   Y OW', 'CH IH R', 'HH EY T', 'W AO R P', 'S IH P', 'S W EH L', 'SH AA V T', 'SH IH M', 'P AA R K', 'K R IY', 'S OW', 'K AA NG K T', 'D AA K', 'T AY L', 'P AE T', 'Z IH R OW', 'T IY R AH', 'L AO R', 'CH EY L', 'M UW', 'L EH F', 'TH R IY', 'OW', 'F L AO R', 'R AA K', 'R AA G', 'T AY L', 'F AO R M', 'D AW T', 'T R AY L', 'CH IH R', 'M IY', 'SH IH T', 'SH AA P', 'CH IH R OW', 'K EH P L AO R', 'G R OW', 'AH P F AH L', 'R EH N Z D', 'F AY L', 'B R AH B AH L', 'T R AE V AH L', 'R AY T', 'S T AO R M', 'K R AO', 'R AY T', 'CH EY P', 'T R AW W AW T', 'HH AA R M', 'P R OW G OW', 'T IY', 'B UW M', 'R UW IH NG K', 'T AA R B OW', 'F IY R M', 'G L UH R', 'F AO R M', 'S P AA R M', 'JH AE K AE T', 'R IY CH', 'HH EH R', 'CH AE G ER', 'K AO R N', 'T R IY G', 'T R AY D AH', 'EH R AH', 'Y UW P', 'M AA Z', 'L UW P', 'SH IH R', 'EH V ER IY   Y AA', 'CH IH R M', 'HH EY T S', 'W ER P', 'T R IH P', 'S W IH D', 'SH AA P T', 'TH R UW D', 'P AA R T', 'P AY JH', 'S P AA R K OW', 'N AA T', 'K Y UW ER', 'T AA P', 'P IH S D', 'P EY T', 'N IY OW', 'CH IH R', 'K L UH R', 'CH AA R L', 'W EH R', 'L EH F T', 'TH R IY M', 'TH UW', 'F L AY', 'R AA K S', 'R IH JH AH N', 'T ER IY ER', 'F AO R V AH S', 'D R OW T OW', 'T R AY V', 'F IY ER', 'AH', 'F AY T', 'T R AA P', 'CH IH R', 'F L AO R', 'W AO R P', 'R OW', 'SH AA R L AH P', 'W AY', 'D R AA', 'F AY V', 'AH   SH ER CH', 'P AA R K', 'K L IY P ER', 'AH P', 'T AY L', 'Z AY HH', 'B AA', 'SH EH R   L OW', 'M IH D ER D EY', 'L AE T ER', 'P OW P', 'HH AE M', 'L IH L', 'SH IH N', 'CH AA', 'F IY D', 'F L AO R', 'B IY T IH NG', 'EH B ER', 'B EY N', 'TH OW P', 'F AO R', 'D AH D   Y IY T', 'Y EH S', 'W IY   HH AE T', 'CH AY JH', 'L IH T ER', 'S P AE N', 'R AY V', 'S N IH K ER', 'K EY K', 'HH L IY K ER', 'HH AA R M', 'SH AA R K', 'HH EH R OW', 'F L AO R', 'T AO', 'CH AO', 'B IH T', 'M AE SH', 'TH R EH T', 'CH AA R', 'G OW F', 'S IH V AH N', 'JH AO', 'W ER K AA R', 'S AY T ER', 'W IH P', 'W AO L', 'EH S', 'W EH R IH T', 'B R AA', 'AE NG', 'B AA R K', 'S IY R', 'K AA R K ER', 'P IH K T ER', 'L EH F T', 'T IH L', 'Z AY JH', 'AH', 'CH AA R OW', 'T EY', 'L AA T AA R', 'P R OW P AH', 'HH IH M', 'M IH L', 'S AY', 'T AA L', 'R EY K', 'S IY R', 'F R AW', 'B IH T IH V', 'N OW T ER', 'B AA R N', 'T OW P', 'F AO R K', 'AY L IY   Y IY T', 'P AH T R AA HH IY OW', 'AH P', 'HH AE T   IH M', 'S AY N', 'S IY T ER', 'S T AO R M', 'W AY V', 'S L AY D ER', 'K AA R K', 'HH EH L F D   CH EH R', 'HH AA R P', 'D AA R K', 'HH EY L', 'T R UW', 'TH AO AE P', 'SH AO', 'B IY T IY', 'M AY JH', 'F AY T', 'F L AW ER', 'K OW', 'P EH R   DH EH M', 'JH AO N', 'W ER K ER', 'Z EH R', 'S AY D', 'CH AA R', 'CH EH R', 'S L IH P', 'B R AE G', 'TH R IY', 'HH AE M', 'D R AO S', 'R IH P', 'F UH T', 'HH AE T', 'L UW', 'N AW', 'D AA R K', 'AH', 'P AA', 'B R AA N', 'S AW TH IY S T', 'S IH P', 'S AO', 'N AA T', 'S OY T', 'TH R IY', 'B ER T', 'G AE N', 'D AH G', 'S T R AA R M', 'D AA R G', 'P AA', 'SH IH P', 'T IH L', 'SH R IY G', 'S UH T', 'R AA T', 'S N AO T', 'T R AE P', 'T ER M', 'F AA R M', 'V AY Z', 'S P L AO R T', 'S P R IH P', 'S AE NG', 'T R IH P', 'F AW', 'S N AA K T', 'R AE P', 'HH AA R M', 'F AE D', 'L UW T', 'V AY S', 'AH', 'S P L IH P', 'S IH N D', 'D R EH G', 'B OY T', 'P R IH P', 'S AY T S AY T', 'K OW P', 'P AA R K', 'B AA R T', 'M AA R OW', 'AE Z', 'G UW S', 'R AA K', 'T UW', 'K AO R', 'F AO R T', 'B EH T', 'F AE T', 'K R AA P', 'B OW L ER', 'D AA R K', 'T IY', 'S EH P', 'TH R EH SH', 'TH R UW M', 'Y UW T   N AY S', 'TH R IY S', 'K R EH SH', 'G OW P', 'S IH NG', 'M IY CH', 'S K EY', 'R IH N', 'IH NG K', 'S T R IH M', 'S IH M', 'SH W IY M', 'R IY S T', 'S IH P', 'F OW EY T', 'S AA R T', 'S OW', 'L EH N D', 'N AA K', 'K OW D', 'M EY OW', 'K AO R K', 'R AA N', 'EY T', 'M AH DH ER', 'D R EH D', 'F UW D', 'M AH T   N AY S', 'SH R IH D', 'R IH P CH', 'L IY CH', 'B L EH N D', 'S T R IH N', 'S IH NG', 'G R IY F', 'D AA R S', 'HH IY P', 'N UW S T', 'R AH JH IY']\n",
      "SPEAKER: torgo_xlsr_finetune_M02\n",
      "WER: 67.56%\n",
      "CER: 52.93%\n",
      "===================\n",
      "predictions_list: ['EY G T', 'HH AA', 'EY T IY', 'JH IY', 'AH K', 'EY T', 'M AH CH', 'AA SH', 'HH AH M', 'R IH L AE K S', 'OW', 'G L OW', 'S W AO R M AH', 'K L OW', 'DH EY   W IH L T EY K   AH   W EH D IH NG   T R IH P   L EY T ER', 'N OW', 'B EY V ER', 'S P L IY', 'S T AA R B AH L', 'CH EH R', 'S P AA R K', 'R EY K', 'T UW', 'D AH G', 'R AA', 'AH M', 'G L OW', 'R IY CH', 'CH IY', 'K L AH N', 'F AW N', 'K AH L', 'R EY S', 'S P AH L', 'K AH M', 'SH UW', 'K L OW', 'D Y UW G', 'T IH P', 'K AO L', 'R EY D', 'F ER', 'F AA R M', 'TH R IY', 'L AH P', 'P AA R K', 'SH UW', 'ER V', 'W IY M', 'R AH K', 'S T IH R', 'S R IH P', 'CH W AO P', 'R IH T', 'W IH T K', 'P AY', 'K R OW P', 'M AE T', 'S R UW T', 'T W OW T', 'M IY D', 'W IY P', 'D AA T', 'P AE T', 'R UW AH P', 'F K EY', 'G R EH N T', 'B EY T ER', 'S T R AE P AH L', 'EH R', 'P AA R K', 'R EY K IY', 'T R IH N', 'G R EY V', 'B AH N AH L', 'R EY N JH', 'CH EY K', 'M IY', 'B OW N', 'T OW N', 'D AH G', 'K AE L', 'F R AH M', 'F R IY', 'P UH L', 'SH IY', 'W EH L', 'B AE T', 'L AY G T', 'W IH CH', 'P AY L', 'K EH R', 'M AA R SH', 'M IY', 'S R UW P', 'EH L S K AO R', 'ER JH AH N T', 'T UW', 'SH AA P', 'R UW P', 'S W AY G IY', 'F IH NG G ER', 'AA R M', 'D IH R EY T ER', 'F EH R', 'F L AO R', 'R UW AH T', 'S L IH P', 'K AA R T', 'K IY', 'R IY EY K', 'S P R IY N', 'CH AO', 'AA R AH K AH L', 'K B R AA B R K', 'W IY R   R IH T AH N', 'SH AA T', 'S IY', 'AA R N D', 'K EH R', 'T AY L', 'AE F S K ER', 'M AH CH', 'TH R IY', 'M AH S K', 'S IH T IH NG', 'S P ER', 'CH AE K T ER', 'B R AA K   B EY N', 'M AY', 'T IY L', 'F IH T IH NG', 'S AO R D', 'N AW IH NG', 'R IH T ER', 'B AA R N', 'SH IY IH NG', 'F R AH M   P AA R K   S T R AO R T', 'B R AA K   S T R AE T', 'N IH T IH NG', 'JH UW L IY AH T', 'K AO R T IY', 'D AH G', 'CH UW P', 'L AY P', 'P IH R', 'F L AY', 'S IH NG ER', 'B EH R', 'D AE N T ER', 'K AO EH', 'S W EH R IY', 'M AE T', 'S M UW P', 'K OW T', 'K R EY K', 'L IH K', 'S P R IY M', 'SH AY', 'AA R OW K OW', 'K AA R K', 'R IH T AH N', 'SH AE G T', 'S IY D', 'AA R AH N', 'HH AA R M', 'B EH R IY AH L', 'AO L S ER', 'G AA R K', 'F IY D', 'R EY K', 'S EY V IH NG', 'S AY R IH G', 'K AE K T ER N', 'B EY N Z', 'M IY', 'AY M', 'W IY', 'F R IH T IH NG', 'TH AO R', 'N OW HH', 'R IH T IH NG', 'B AA R M', 'HH EH V IH NG', 'S P AA R K   S T R AH', 'B R AA K   S T R AE T F S', 'M IH T IH NG', 'G UW L IY AH T', 'P AA R T IY', 'S UW T ER', 'M AA R SH', 'D R AY V', 'K W IH K ER', 'N OY T', 'JH IY', 'OY T', 'B L IH N P', 'CH IH R', 'S IY R', 'M AA K', 'S AY Z G IH S T', 'S IH P', 'R AA K', 'R AH S', 'M EH R OW', 'AH P', 'B IY T', 'R AE M', 'SH EH T', 'F AO R K', 'R AA D', 'IY EY P IY', 'T UW', 'B AE T', 'B EH N T ER', 'S N AE K', 'S OW', 'Y UW T ER', 'D AA R K', 'TH R EH D', 'P IY', 'AA R F AH', 'TH ER SH', 'B AE S T', 'HH IY N T   N AY F', 'T UW', 'G AA M P', 'R IH P', 'R IH F T', 'S AO R P', 'T IY', 'IH M', 'SH UW T', 'K IY', 'F L IH R K', 'EH R', 'TH R IY', 'K L AH F', 'L IH N D', 'B AH G T', 'SH IH P', 'S T R IH M', 'F AO R T', 'SH IY', 'L ER P', 'S T R AH K', 'UW T S', 'G UW TH S', 'S IH P', 'K AA N T ER', 'F AO R T', 'W IH K AH T', 'Y UW S   DH AH   F AO R', 'T IY EY CH', 'N ER T', 'SH AA R K', 'S AY T ER', 'D R IH F T', 'K IH K W ER', 'N IH T', 'G IY F S', 'L EH N D', 'B L EH N D', 'ZH IY R OW', 'CH EH R', 'M AH SH', 'S AY Z G IH T', 'R AE K', 'D R AH S', 'M EY W', 'M AH N CH', 'IY Z', 'R AO NG K', 'SH R EH T', 'K AO R K', 'R EH D', 'IY T', 'CH W IY   EH M', 'B AH T', 'B IH T ER', 'S N IY K', 'S AW', 'B R OW T ER', 'D AH G', 'R EH D', 'IH P', 'AA R M F AH', 'B EH S T', 'N AA T   M AY S AH Z', 'SH IH T', 'K AE SH', 'D AA NG K', 'W IH CH', 'R AH S T', 'S AO R T', 'B IH T IH NG', 'HH IH M', 'S IH T', 'W IH S K IY', 'F R IH K T ER', 'B IY', 'TH R AY', 'N AA T', 'L EH N D', 'S P AA R K', 'S T R IH N', 'F R IH T', 'S IY', 'W ER TH', 'S L EH P T', 'SH EH P', 'HH OW T EH L', 'T R AA N T ER', 'F OW', 'W IH K AH D', 'AH M N IH F ER', 'S IH P', 'M ER S T', 'HH R AH G', 'K EH R', 'TH R IY T', 'AO F R AH', 'F AO R F AW R', 'B IH T', 'B AE T', 'S AY G OW F IH SH', 'F UH R UW']\n",
      "SPEAKER: torgo_xlsr_finetune_F03\n",
      "WER: 58.58%\n",
      "CER: 46.28%\n",
      "===================\n",
      "predictions_list: ['S T AO R M', 'S W IY T', 'F UH R AW', 'HH AY', 'P AE T', 'CH AE L', 'EY T IY', 'G UW', 'G EH Z', 'IY TH', 'N UW', 'IY T', 'R IH L AE K S', 'K AA P K', 'F L AW R', 'T IH K S', 'S P IH T', 'DH EY   W IH L T EY K   EH D IH NG   T IH P   L EY T ER', 'N OW', 'S L R AW ER', 'R EY N', 'AA', 'R IH D', 'B AE D', 'P AA R K', 'F L AO R', 'G R EY V', 'T IH P', 'S T IY   L EH K', 'T W OW D', 'B IY T', 'JH IH T', 'P L UW', 'R EY N JH', 'IH B', 'P AA R K', 'F OW M', 'R OW', 'F L EY JH', 'F IH L   AH B UW TH', 'T IH L   B L OW M', 'F AO R', 'B Y UW N', 'B IH T', 'AE L R AH N', 'AE G', 'W IY', 'R EY', 'AO R', 'K OW D', 'K R EH K', 'P IY T', 'HH IY', 'AW T', 'G IH P T', 'L R OW', 'S T AY', 'D AO N', 'S T IY K', 'AO R IY', 'G OW T', 'K L UW R', 'S IY N', 'M AA R K', 'TH R EH D', 'D AE G', 'B AA B OW', 'F L AO R G', 'TH R IY', 'T IH K', 'S T R EH M B ER', 'S T OW L AO R AH M', 'W EH D', 'JH IY T', 'JH AE S IH T', 'F L AO R   T R IH D', 'R AE N', 'S P AH G', 'D AH G', 'W AO R M', 'L R OW', 'F L AO R', 'T IY L   AH B UW T', 'K L AO   B AO R N', 'F L AO R', 'D AE B', 'R IH TH', 'TH R IY T', 'B AH L R EY N', 'JH EH G D', 'R AY T', 'R EH D', 'S T AO R M', 'K OY N D', 'TH R IY', 'B IY T', 'HH AY M', 'W UH L P', 'G AE S IH T', 'R OW', 'D AA K', 'D AW K', 'R EY N', 'S T IH K', 'M IY', 'G AA L', 'S L IY T', 'F L AW ER', 'SH R EY', 'M UW T', 'R IH T', 'CH AO L', 'W EH P', 'L AY ER', 'P R AY', 'G UW T', 'R AA K', 'L OW', 'D IH R', 'SH IH R', 'TH IH NG   IH Z', 'G UW P', 'F IY T', 'S R IY M IH NG   S IH L', 'P AY', 'EY JH AH N T', 'P EY', 'IH T AH L   AY W R AY T', 'ER', 'AY   Y IY S ER', 'M IY D', 'HH ER', 'P AE T', 'AW T', 'S AY D', 'S T IY M', 'EH S EY CH   AY   K AE N', 'HH EY T', 'F L AO R', 'D AE K', 'S L UW IH T', 'P AE T', 'TH R IY', 'B R AY D', 'T UW', 'N AO L', 'D AE G', 'M EH K N IY OW', 'T AY L', 'HH IY ER', 'S L EH F T K', 'N UW', 'Z L OW Y', 'W IH T', 'JH IH NG G OW L Z', 'W IH CH', 'W IY D', 'SH L IH P', 'P R IY', 'P IY Z', 'F IY D', 'B AE T', 'B IY M', 'N UW T', 'Z UW P', 'Z N UW', 'M AH T', 'P R IY T', 'P IH T IH T', 'P AY', 'P IH T IY AH', 'AH P', 'HH EY S T', 'S AY', 'CH EY L', 'S T AY D', 'B IH T N', 'D AA R G', 'G AA F', 'F L OW K AA R D OW', 'M AH CH', 'B R EH D', 'M IY T S', 'K EY T AH N', 'AY IY   S T AO R M', 'T AE D AH L', 'AY M', 'Z IY', 'M EH L', 'EY   Y EH T', 'G L IH T', 'N AY T', 'W IH CH', 'D AA R K', 'L IH T', 'B L OW', 'S IH N D', 'HH AA R T', 'S T IY N Z', 'HH AA R K', 'EH K OW', 'S AY N', 'P AO R P AH', 'P EH P AH', 'K EY K S', 'N UW   W AA Z   AE M B ER', 'L AH', 'F IY D', 'R IH T', 'B EH S N AH T', 'B EH N D', 'HH L AY P', 'K AH B IY T', 'K OW EY T S', 'P AA R T', 'F AE T', 'HH IH M', 'B R AA T', 'S IH T IY', 'L IY K', 'L IY K', 'S IY T', 'S P R EY N JH', 'S IH D T', 'T AE K', 'N AW   Y EH S', 'F OW EY T', 'S AY', 'F L AY T', 'HH IH D   P IY', 'Z IY', 'K L UW   W IY   N OW', 'AH T R EY', 'EH N D', 'W IH T', 'HH AE M', 'S IH T', 'Z IH R OW', 'W IH T', 'Y IY EY   K L OW', 'S EH N D', 'M IY T', 'M IY', 'B EH S T', 'S IH P', 'S EH T', 'TH R IY D', 'Y AE NG K', 'B IH T', 'T AE NG G AH T', 'D R IY Z', 'W IY   K AE N', 'N AE D', 'SH IH P', 'D R EH D', 'S EH D', 'EH F', 'R IH D', 'HH AE N D', 'B IY D', 'AO R', 'S L IH P K', 'D EH D', 'S IH K', 'V EH R T IY', 'T IH K S', 'G EH V T EY', 'B R AE G', 'S IY T', 'L IY', 'P AE T', 'TH R IY', 'F L OW', 'G AE M', 'D UW', 'B UW TH', 'S T ER K S', 'B UW T', 'HH AE T', 'L UW', 'N L IH L', 'R OW T', 'P AA R K', 'AH', 'OW', 'S OW', 'SH IH P', 'SH AA P', 'T AA L', 'N UW L', 'S AO R IH T', 'S UW T', 'F R IY D', 'B AA T', 'G AO N', 'D AH G', 'S T R AA R M', 'T EY L', 'T R AO', 'SH UW T', 'R AY T', 'N OW', 'W AY T', 'P AA R K T', 'P R AE P', 'HH AA R M', 'HH AA R M', 'V IH N', 'EH F', 'S P AO R T', 'F OW', 'W IY   N OW', 'W IH T F', 'B AH T', 'L IY T', 'N AA T', 'L AH T', 'V IH R', 'B AA', 'S P L AY R T', 'F R AA K', 'UW T', 'P R IH P', 'S AY T S AY T', 'K OW EY T', 'B AH N', 'P AA R T', 'B ER T', 'M IH Z', 'N AH SH', 'B IY T', 'R AW N D', 'S OW', 'SH EH R', 'F AO R K', 'M OW L K', 'M IY T', 'S AH P', 'S AA R', 'F UW D', 'T IY   N AY F', 'F EH R', 'K AH', 'R EY Z', 'S OW', 'EH R', 'S UW T', 'TH R EY IY', 'N AO R T', 'F IH S T', 'EH S', 'SH IY', 'G EH S T', 'S D AY S', 'K AE T', 'OW Z', 'S IH P', 'F OW', 'D AA R K', 'SH EH L', 'L EH N D', 'M AA R K', 'IH G T S T AY F', 'K OW D', 'B ER N', 'M AH N CH', 'R OW N', 'K AO R', 'R EH D', 'M AA K', 'S UW T', 'D AA R K', 'Z AH G', 'N AW T   N AY S', 'D AA K', 'M IY CH', 'B EH R', 'R EH F T', 'N AH T', 'S UW AH N', 'G R IY K', 'D ER K', 'HH IY P', 'R AH G', 'S OW']\n",
      "SPEAKER: torgo_xlsr_finetune_M05\n",
      "WER: 62.55%\n",
      "CER: 49.46%\n",
      "===================\n",
      "predictions_list: ['S W IY T', 'EY T', 'F AW R', 'HH AH M', 'EY G T', 'CH AE M', 'G UW', 'AH K', 'S B IH T', 'L OW', 'IY TH', 'Y UW', 'R IH L AE K S', 'OW', 'F IY D', 'S W AO R M', 'S T AO R M', 'AA R M', 'EY', 'IH NG', 'F AY', 'DH EY   W IH L T K AH P R AY TH IH NG   EY T ER', 'IY T', 'S IY', 'N OW', 'N IY OW', 'AE T', 'T UW', 'G AE S AH T', 'R EY K', 'T IH P', 'B L OW', 'R AY T', 'B IY T IY EY', 'AH B AH L', 'N IY', 'S W AO R M', 'S W AA R', 'F IY D', 'HH AA R M', 'R EY JH', 'S EH L IH K T', 'P R AY', 'Y UW T AH N', 'S IH K OW M', 'EH R AH', 'HH ER', 'D IH R', 'HH EY T', 'B R AY ER', 'W IY   IH R', 'D EH L T AH', 'F AO R ER', 'B AE T K', 'TH R IH L', 'M EY N IY OW', 'T AY JH', 'CH IH R', 'P AY ER', 'T AE NG G AH L', 'F EY T', 'B ER N', 'P IH T IH NG', 'S AY T', 'AH L IY   Y EH T', 'HH AE M', 'M IH K', 'S AY T AH N T', 'N OW M AH B ER', 'B IH T AH N', 'P AA R K', 'K EH T AH N', 'S F IY D', 'S IY D', 'P Y UW P AH', 'S AO R M', 'HH IH T   IH NG', 'T AY K T AO R', 'D R EH S', 'Y UW N IH T AO R F M', 'N AE D', 'L AA K', 'CH IH N', 'G AH D AA T', 'R AY S', 'CH IH P', 'G L OW', 'S R AY T', 'B IH T ER', 'B AH B AH L', 'N UW', 'W AO R M', 'S W AO R', 'F IY D F IY D', 'HH AO R N', 'R AE K', 'S EH L IH K S T', 'P R AY R', 'ER JH AH N T', 'S AY K AH L', 'EH R IY OW', 'HH IY ER', 'S IY R', 'HH AE T', 'B R AY', 'W IY R', 'G EH L T AH', 'F AO R B ER T', 'B AE T', 'TH R UW', 'M EY N Y UW', 'T AY G', 'SH ER', 'F IH R', 'T AH NG G AH L', 'F AE T', 'B AO R N', 'P EY N', 'HH AE N D', 'S AA T', 'JH AW ER L IY   Y EH T', 'HH AA R M', 'M AY F', 'S AA R T AH N T', 'B IH T ER', 'HH AA R K', 'K IH T AH N', 'F IY D', 'S IY D Z', 'P AA P AH', 'SH AO R N', 'HH IH T   HH IH M', 'V IH K T AO R', 'D R IY Z', 'Y UW N IH T HH AO R F T', 'N IY D', 'W AE K', 'SH IH N', 'TH R OW', 'B R AE G', 'S L IY T', 'TH R IY', 'F L OW', 'B IY T IY', 'B AA N', 'B UW T', 'HH AE T', 'S W IH L P', 'B IY P', 'L AA K T', 'S UW P', 'K L UW', 'CH EY L', 'N AH P', 'D AA R K', 'B AE N', 'S IH', 'SH IH P', 'S AO', 'P AA R K', 'R AA N T', 'S OY T', 'F R IY', 'B R AA K', 'G L EH S', 'SH UW P', 'S W AY G', 'S UW T', 'R OW IH K', 'DH OW', 'S P AA R K AH L', 'P R AE P', 'R IY K', 'P AA R M', 'F EH R AH', 'F R AO N', 'W EH N OW', 'S P AA R K', 'F AE P', 'R EY K', 'F AY N', 'L UW T', 'F AA', 'S AY N', 'Z AH T AH L', 'G OW AH S', 'AE T', 'W AO R M', 'K R IH P', 'S AH G T S AY T', 'S IH P', 'K OW EY T', 'AA R T', 'B UW T', 'M IH R OW', 'T S AA T OW', 'N IH S', 'B UW T', 'W AA M', 'S OW', 'F AO R K', 'R AY T', 'IY EY P IY', 'HH AE T', 'P AE T', 'D AE K', 'IY R', 'D AA R T', 'S P AA R', 'F UW D', 'B EH S T', 'L UH K   N AY S', 'F ER', 'R IH P CH', 'S K AY', 'EH R', 'AH', 'SH IH P', 'S T R EY M', 'TH R EH T', 'SH W IY M', 'R IY S', 'F L ER K', 'S T AY D AH S', 'K AE T K', 'UW Z', 'S IH P', 'AH P', 'S IH P', 'S AY T', 'S AO', 'G OW S', 'L EH N D', 'S AY Z G IH T', 'K OW D', 'P IY', 'B ER N T', 'M AH N CH', 'G UW S', 'K ER T', 'R AE N', 'R EH D', 'L OW G ER', 'S UW T', 'D IY T', 'D AA R K', 'T UW', 'N AA T   N AY S', 'SH UH R', 'W IH CH', 'EH R', 'R EY K', 'L IY CH', 'B EH R', 'N EH S T', 'CH ER P', 'S T R AE M', 'F R IH T', 'S IH NG', 'R IY', 'L EY K', 'SH AY P', 'SH IH P', 'HH R UW JH']\n",
      "SPEAKER: torgo_xlsr_finetune_M03\n",
      "WER: 50.72%\n",
      "CER: 39.41%\n",
      "===================\n",
      "predictions_list: ['S W IY T', 'F ER F ER', 'IH M', 'W EY Z', 'CH EY', 'AY T AH', 'EY T IY', 'G EH Z', 'G EH S K S', 'IY P AH', 'S T IH K', 'G R UW P', 'M AH T', 'T L IH K', 'AO TH', 'R IH L AE K S', 'OW', 'HH IH R', 'B UH K', 'HH IY R', 'K AH N AO', 'IH T', 'P AE P', 'B AA', 'L IH P', 'P AY T IH NG', 'AY', 'P AY', 'N AO', 'TH IY AH T IH L K IY   EY T', 'N OW', 'N UW', 'TH R EH D', 'HH ER', 'HH AE T', 'SH IY AA R', 'G AE SH', 'P L EY IY', 'K AO L', 'F L UW', 'P L EY', 'F AO R', 'L AA', 'EY K', 'L AH', 'TH IY', 'L EY', 'F IY', 'G AE N JH ER D', 'HH EY L', 'R EY', 'P L EY', 'AE L F AH', 'K R AA M AH L', 'Y AA N UW', 'W IH NG K', 'G AH M AH L', 'M AA G', 'K IH T AH', 'B AO R', 'L EY IH N', 'K EY P', 'G AE N UW', 'K L AO R', 'P L EY N', 'S W AO R M', 'L AA', 'L AH', 'B IY L AH', 'R IH CH', 'R EY S', 'R EY K', 'IY', 'G AE N JH D', 'S IH R', 'R AY T', 'P R EY D', 'OW', 'K R UW M AH B AH L', 'JH AE NG G AH L', 'L IH K', 'S ER M AH L', 'M AH G', 'G AH G D AE T', 'B AA R N', 'R AE NG', 'K EY P S', 'M EH N Y UW', 'S K AO R L', 'TH R UW', 'F L IY T', 'TH R IY', 'TH R IY', 'F L OW', 'M AA', 'D AO N', 'AH S', 'F R UW T', 'TH R IY', 'HH AE T', 'S IH P', 'L EH K', 'CH EY L', 'S M AA R K', 'P AA', 'P AA R K', 'B AA', 'ER F', 'F R IH T', 'S AA', 'SH IH P', 'M ER T', 'F R UW T', 'S AO', 'T R UW T', 'D AA K T', 'T AY', 'P R AE T', 'R IY P', 'T IY', 'R UW AH T', 'F R IY D', 'B L OW', 'G AE N AH L', 'AH', 'M Y UW', 'P AA', 'W IH L', 'M AA R K', 'SH R IY P', 'R AY', 'T OW', 'R AH T', 'IY R', 'R UW P', 'S W EY', 'SH R IH P', 'N EH R', 'S P R IH NG K ER', 'K AE T', 'EH V ER AH N', 'B R AO T', 'S P R EY N', 'W IY L   R IH T AH N', 'B R AW T', 'S IY', 'HH EY L', 'HH ER M', 'L OW L', 'M AH CH', 'TH R IY', 'TH R EH T IY', 'S L IH T P AY G', 'S P AY', 'B R AO G AH N   B AO N', 'F AA R K', 'L IY', 'S P ER T', 'S P R IH T', 'SH R AO NG', 'R IH T AH N', 'HH IH M IH NG', 'F OW', 'S P R IH K N', 'K AO T', 'S AH V AA N', 'V AE T', 'S P R EY', 'HH AE M', 'HH AA R M', 'AE L F', 'L IY G', 'R IY K', 'P R IH T IY', 'S L AY P IY', 'S AY', 'B R AO T   B R AO N', 'L IY', 'F EY N', 'L UW T', 'W IY R', 'S P L IH T', 'N IY', 'S IH D', 'HH IH T R IH NG', 'IH T IY', 'Z IY L UW', 'D R EH G', 'IH T', 'P R EH T', 'S AY T F EY T', 'S IH P', 'R AE K S', 'K OW T', 'D R AH S', 'B R AH N', 'P AA R T', 'B R AH T', 'M IH L UW', 'AO L S OW', 'T R EH D', 'N AH SH', 'R AE N', 'T UW T', 'TH R EH D', 'SH AH D', 'K IH R', 'F AO R K S', 'F AO R K S', 'IY EY P IY', 'EH M B', 'K IH L UW', 'M AO L K', 'F AE T', 'B EH T ER', 'IH K ER', 'D AA R T', 'D EH L F AH', 'S EH L', 'G AE SH', 'F UW D', \"'   '   T IY   N AY S\", 'K AE S', 'G AA L F', 'R EH S T S', 'T EH N', 'IH M', 'S IH N T', 'F L AY K ER', 'S K AY', 'F AO R T', 'F R IH K ER', 'N AH T', 'P R AW T', 'IH NG K', 'S P R EY M', 'F R EH D', 'S IY', 'SH IY', 'R IY F', 'L AY F', 'UW Z', 'G AW S', 'S IY P', 'P AH M T ER', 'F OW T', 'SH AA T', 'N ER S T', 'TH AO T', 'S AA', 'L EH N D', 'S AY T', 'R AE K', 'K OW D', 'B R IY', 'M IY L', 'M AH N CH', 'R AO N', 'SH R EH D', 'R EH D', 'EH M B ER', 'K IH L AW', 'B IY D', 'G L OW B ER', 'S IH T', 'AY', 'AE L F AH', 'P IY   N AY S', 'SH AH D', 'R AH S T S', 'B R IH T AH N', 'HH IH M', 'M IY Z', 'F R IH K T ER', 'T R IH P', 'S IH M', 'F R IH T', 'G R IY Z', 'L IH K', 'HH IY P', 'IH P', 'M AH S T', 'R AY JH']\n",
      "SPEAKER: torgo_xlsr_finetune_F01\n",
      "WER: 60.82%\n",
      "CER: 47.54%\n",
      "===================\n",
      "predictions_list: ['S W IY T', 'OW K EY', 'IY', 'R IH L AE K S', 'L IH S', 'T IY', 'S IY', 'TH R EH D', 'HH EY L D', 'T R EY T', 'T R AE B AH L', 'F IH R', 'T IH K', 'AA R M', 'Z EY B AH L', 'B AA R G K', 'OW P', 'R EY', 'V IH T', 'Z AY R OW', 'W AO R D', 'G AA R D', 'B AE N', 'T R EH D', 'N UW', 'K AA M OW', 'K AO R M', 'R EY V', 'T R EY N', 'SH IH P', 'S P AA R K T G IH N', 'W AA S T W AA F', 'W AY N', 'K W AO R M', 'W AO R M', 'S T R EY T', 'TH AA P', 'CH EH R', 'T IH P', 'S B IH T', 'W AH N', 'D AH B AH L', 'B AH G', 'Y UW P', 'R EY N', 'B IH T', 'N AO', 'W AO R M', 'G AE D', 'P AE N', 'S T R EH D', 'T UW', 'G AA T', 'R EY D', 'T R EY', 'S IH P', 'W IY N', 'M IH N AH T', 'K AO R', 'M IY', 'S T AO R M', 'K R AW', 'S P AO R', 'T R EY N', 'F IY D', 'W IH CH', 'T W OW P', 'B AE D', 'TH R EH R', 'P AA R K', 'G AH L AW ER', 'TH R EY', 'AE T AH T AH N', 'B AA R K', 'F AO R', 'S UW AO R T', 'D IY', 'N AW', 'S AY JH', 'R AA K R AE K', 'CH AA R IY', 'B AA D', 'CH IH R', 'G IY ER', 'P AE D', 'S AY', 'F L AO R K', 'R EY P', 'EY T AH D', 'M IY T', 'R AY T', 'S AY L AH M', 'N OY T', 'P R AY D', 'S IH NG G ER', 'EH L S K AO R', 'S P R EY N G OW D', 'F OY D AH', 'N AY T', 'AE K N UW', 'S R IH D', 'W IH CH', 'R AY T', 'N OW', 'S AO T', 'Y AH N', 'S AY JH', 'D AA R K', 'S L IH T', 'B AA R N', 'P AA R K', 'T EH L', 'S AY N', 'F IH R T', 'P AA R K', 'S IY R AH', 'D AW N', 'EH R', 'L OW D', 'S T AA R K T', 'AY   K AW N D', 'S K R AY', 'Z AY L', 'S R IH T ER', 'HH IH M', 'L AE D', 'W IH CH', 'EH R', 'T AO R M', 'F IH L', 'R EY T', 'S IY D', 'G D W AO R T', 'M AY T', 'R EY HH IY', 'P AA R P ER', 'N OW V B ER', 'F AY D', 'EY K', 'CH AA R P', 'M IY T IH NG', 'B OW T', 'CH EH R OW', 'B IH T AH N', 'T UW N', 'R AY T', 'B R AO N', 'W AY V', 'F T IH NG', 'AE B T', 'EH R M', 'N EH B AY T', 'B AE D', 'S P EH R M', 'AA R M', 'EY T IH NG', 'W AA B', 'R EY D', 'W IH K', 'B IH T', 'AO L T', 'B R AY D', 'W IH K ER', 'N UW', 'S T AA R M', 'R OW', 'S W AO L ER', 'S T R EY N', 'F IH L', 'F IY T', 'W IH DH', 'T R AA P', 'B AE T', 'P IH R', 'T AY ER', 'G L UH R', 'P R EY', 'AA R AH N T', 'B AE G', 'F AW R ER', 'SH UH R T', 'D R UW P', 'N OW', 'R AA K', 'CH AA R', 'B UW T', 'S T IH R', 'D IH R', 'P AE T', 'S AY D', 'L IH P', 'EY T', 'G UW T', 'B R EY D', 'T AY K AA L IY', 'N AA T', 'B AE T', 'P R AY', 'S IH NG G OW', 'EH K S P L AO R', 'S P R IH NG G OW L', 'F UW D', 'M AY T', 'M EH NG K N UW', 'T R IY D', 'W AY T', 'W EY S T', 'D AA T', 'JH AH N', 'S AY L', 'D AE T', 'S L EH F T', 'B AO R N', 'AA R T', 'K OW', 'S AY D', 'F ER', 'D AA R K', 'B IH T', 'Z IH R OW', 'T IY', 'L AA D', 'S AY D AH N', 'AY   K AE N', 'S B IH T', 'L AE T AH L', 'B R IH T ER', 'HH AE M', 'JH AY T AE T', 'R AE T S', 'P IH T', 'K EY JH', 'S AO R M', 'F IH T', 'R EY K', 'S IY', 'B AH G D R AW T', 'P AA R K', 'P AA R P ER', 'N UW M B AW R', 'S AY L', 'S T AA R K', 'CH AA P', 'M EY T AH N', 'B AA R T', 'G L AA', 'B AY D AH N', 'D AW N', 'N AE T', 'B R AW N', 'R AY M', 'B IH T AH D', 'R IH D', 'HH AY M', 'N EH B IH T', 'B AE T', 'S P EH D', 'S T AO L', 'IH T AH N', 'R AE D', 'L AY K', 'EY T', 'B R EY D', 'S T IH K ER', 'B R AE G', 'V IH L R AH', 'R IY', 'M AE N CH', 'D R EH D', 'N AY T', 'UW T', 'S AY T S AY T', 'S IH P', 'R UW S', 'P AA R D', 'P AA R K', 'M AY L OW', 'AO L S OW', 'B R EH D', 'B AY SH', 'K AO R K', 'B R AA N D', 'TH R EH D', 'F AO R K', 'B AE T', 'IH K T ER', 'D AA R K', 'S T AY', 'S EH P', 'P R EH S', 'F UW D', 'F ER S T', 'K AE S', 'SH IH G IH T', 'M IY T', 'F L IH K ER', 'S K AY', 'F AO R T', 'SH IH P', 'IH N HH K', 'S EH V EY', 'SH IY', 'L IH F T', 'UW Z', 'S IH P', 'F OW T', 'P AY', 'D AA R K', 'M AH CH', 'L EH N D', 'S AY Z G IH T', 'B ER N', 'B R EH D', 'M Y UW', 'M AH N CH', 'F EH D', 'B R EH D', 'L IH N T ER', 'D EH G', 'S T IH P', 'AA R Z', 'Z UW G UW', 'B EH S T', 'HH IH M', 'S IH N T', 'M IY CH', 'Y IH NG K IY', 'SH IH P', 'T AE NG G ER', 'B R EH G', 'D AA R K', 'HH AY P', 'F OW', 'IH P', 'M ER S T', 'R UW JH']\n",
      "SPEAKER: torgo_xlsr_finetune_M01\n",
      "WER: 56.36%\n",
      "CER: 43.24%\n",
      "===================\n",
      "predictions_list: ['EY G T', 'EY P', 'AE D', 'K EH T S', 'G EH S', 'M AH CH', 'R IH L AE K S', 'OW', 'OW', 'S T AO R M', 'L EH F T', 'F IY T', 'S P IH T', 'F L AO R', 'R IH T', 'AY', 'F AY', 'OW', 'N OW', 'R IH G T', 'DH EY   W IH L   T EY K   W EH D IH N T R IH P   T IY', 'AO L', 'TH R EH D', 'Y UW L UW', 'IY T', 'F IY D', 'T W AA', 'B AO R N', 'T R EY T', 'S T EY B AH L', 'R EY JH', 'T R EY S', 'G OW T', 'EH R', 'JH AE K AH T', 'S T AO R M', 'T IH P', 'W IY D', 'G R OW', 'G L OW', 'M IY', 'HH AO R', 'DH AH', 'G AE JH AH T', 'R EY K', 'R EY D', 'F EH R', 'B AH G', 'R EY N JH', 'JH EH JH', 'R IH T', 'T R OW V', 'R EY N', 'K AO R', 'B EH D', 'B EY T ER', 'D AH B AH L', 'R EY V', 'T R EY D', 'EH L F AH', 'F AH B AH L', 'F W AO R M AH', 'F AO R', 'SH EH R', 'T R EY N', 'S T EY K', 'P AA R AH L', 'S W AO R M', 'D EY N JH ER', 'F R AH M', 'S L IY P', 'P AY L', 'S W EY', 'CH AA R L IY', 'M AH K', 'T R UW P', 'HH IY ER', 'W IH SH', 'P OW T', 'W AY T', 'D IH R', 'D R UW P', 'G R UW P', 'N IY AO R', 'S AY', 'S IH NG G OW', 'T OW P', 'EH R IY AH', 'S T IH R', 'S AH L EH K T', 'S W IY T', 'AH V', 'F AO R D', 'R UW AH T', 'P AA', 'L AY T', 'HH EY T', 'W AA P', 'W IH P', 'T UW', 'F EH T', 'W ER', 'W IY   ER', 'F R AY ER', 'B R IH R', 'S N AY P', 'M UW T', 'DH OW', 'G L UH R', 'D EH L T ER', 'EH R', 'M EH N IY W OW', 'CH IH R', 'Y UW R JH AH N T', 'F UH T', 'F IY D', 'F IH T IH NG', 'SH AA T', 'G UW F', 'M IH T AH N', 'B R AO T', 'P AY N T IH NG', 'R AE K', 'K W OW T', 'S AY', 'SH IH F T IY', 'P R IY T IY', 'K W OW L', 'N AY N', 'B IH T AH N', 'L IY G', 'W IY M AH', 'B AE T', 'G L OW', 'ZH AO R OW', 'JH EY B OW', 'F R AA K   S T R AW T', 'L OW Y AH', 'B AA R N', 'B AY T', 'S T AO R M', 'JH UW L IY EH T', 'SH EH L', 'F IH N', 'T IH N', 'L IH P', 'L AA K', 'HH AE M', 'N AA T', 'P IH R', 'R AY B R AW ER', 'S N IH P', 'M IY T', 'T UW', 'TH AO G', 'G AH L AW ER', 'D AW N T ER', 'EH R EY R', 'M EH N Y UW', 'P IY T ER', 'IY JH IH M', 'F R UW T', 'F IY D Z', 'F Y UW T IH NG', 'F AA T', 'G AA L F', 'T AH T IH N AH', 'B AA T', 'P IH T IH NG', 'R IY K', 'W OW T', 'SH AY', 'S IH T IY ER', 'P R AY T IY', 'T EH L', 'N IY', 'B IH T AH M', 'L IY K', 'L AY P ER', 'F AE T', 'B L OW', 'Z IH R OW', 'K AE B OW', 'F AA K   S T R AW T', 'L IY W', 'M AO R N', 'B IH G T', 'P OW', 'TH AO R', 'JH UW L IY AH T', 'SH OW', 'T IH M', 'S IH L P', 'R AA K', 'HH IH M', 'N AH T', 'CH IH R', 'T W OW', 'R AE K', 'F L IY T', 'F L IY', 'TH R IY', 'G AE M', 'R UW T', 'HH AE T', 'B IY P', 'D AA R K', 'AH', 'P AA T', 'OW', 'S AW TH IY S T', 'SH IH P', 'S AO', 'R AA T', 'S UH T', 'T UW', 'SH OW T', 'G IH L', 'AH', 'B AA', 'B IY', 'T AH L', 'R AH T', 'F R AA K T', 'T R AA P', 'HH ER M', 'F AA R M', 'M AY', 'F R IY', 'S K R IH P', 'SH R AO NG', 'S IH K S K', 'T IH P', 'F R AE K', 'M IY T', 'M AO D', 'W EY T', 'R IY', 'B AO L', 'S P L IH P', 'S AO NG', 'Z IY EH R AH', 'S L IY EH R AH', 'K R IH P', 'S AY T S AY T', 'IH P', 'K OW D', 'F AH S', 'P AO R', 'P AA R K', 'B Y UW D', 'AE M S OW', 'F R EH D', 'M ER K', 'R AA NG K', 'OW', 'TH R EH D', 'SH R EH T', 'T UW R', 'F AO R K', 'IY EY P IY', 'B EH T', 'Y UW L ER', 'D AH G', 'S EH L', 'G AE SH', 'F UW D', 'EH N T AY   N AY S', 'TH R EH R T', 'R EH S T', 'S K AY', 'B EY L', 'Y UW', 'SH IH P', 'IH NG K', 'S L IH P', 'S T R IY M', 'TH R EH D', 'SH IY', 'G R IY Z', 'N AA TH', 'K AE T', 'OW Z', 'S IY P', 'SH AO R T', 'R EY K S', 'S AA R T', 'SH AO', 'M AY S', 'L EH N D', 'S IY R AH', 'SH AY R AH', 'HH OW D', 'JH UW', 'B ER N', 'B AH D', 'B Y UH R AE D', 'M AH N CH', 'R AA N', 'F R EH D', 'SH AO R T', 'TH W AO R', 'SH UW', 'AH DH ER', 'W EH N T   N AY S', 'SH UW', 'G W AA N T', 'W IH CH', 'M IY T', 'EH R IY', 'S T R EY M', 'M ER IY', 'L EH D', 'HH IH T', 'S AY T', 'R EY K', 'R AH D']\n",
      "SPEAKER: torgo_xlsr_finetune_F04\n",
      "WER: 45.73%\n",
      "CER: 35.84%\n",
      "===================\n"
     ]
    }
   ],
   "source": [
    "for speaker, df in dataframes_word_no_keep_all_phoneme.items():\n",
    "    predictions_list = []\n",
    "    references_list = []\n",
    "\n",
    "    for index, row in df.iterrows():\n",
    "        # Assuming corrector.FixFragment() is a function that corrects phoneme fragments\n",
    "        corrected_predictions = corrector.FixFragment(row['predictions_phoneme'])\n",
    "        predictions_list.append(corrected_predictions)\n",
    "\n",
    "        references_list.append(row['references_phoneme'])\n",
    "\n",
    "    print(f\"predictions_list: {predictions_list}\")\n",
    "    # Calculate WER and CER\n",
    "    wer_score = wer(predictions_list, references_list)\n",
    "    cer_score = cer(predictions_list, references_list)\n",
    "    wer_score*=100\n",
    "    cer_score*=100\n",
    "\n",
    "    print(f\"SPEAKER: {speaker}\")\n",
    "    print(f\"WER: {wer_score:.2f}%\")\n",
    "    print(f\"CER: {cer_score:.2f}%\")\n",
    "    print(\"===================\")"
   ]
  },
  {
   "cell_type": "code",
   "execution_count": 17,
   "id": "bbd95082",
   "metadata": {},
   "outputs": [
    {
     "name": "stdout",
     "output_type": "stream",
     "text": [
      "torgo_xlsr_finetune_F04_keep_all - Data Size: 279\n",
      "torgo_xlsr_finetune_M02_keep_all - Data Size: 519\n",
      "torgo_xlsr_finetune_M05_keep_all - Data Size: 430\n",
      "torgo_xlsr_finetune_M04__keep_all - Data Size: 420\n",
      "torgo_xlsr_finetune_F03_keep_all - Data Size: 311\n",
      "torgo_xlsr_finetune_F01_keep_all - Data Size: 318\n",
      "torgo_xlsr_finetune_M03_keep_all - Data Size: 280\n",
      "torgo_xlsr_finetune_M01_keep_all - Data Size: 370\n",
      "\n"
     ]
    }
   ],
   "source": [
    "print_dataframe_sizes(dataframes_word_keep_all_phoneme)"
   ]
  },
  {
   "cell_type": "code",
   "execution_count": 15,
   "id": "eb8b08c9",
   "metadata": {},
   "outputs": [
    {
     "name": "stdout",
     "output_type": "stream",
     "text": [
      "predictions_list: ['S IH P', 'SH IH P', 'HH ER', 'EY G T', 'T AO R N', 'P EY L', 'P OW L', 'JH IY', 'D AH K', 'AY', 'G AE L OW', 'SH UW T', 'AE P', 'SH IH R', 'S EH L', 'R IH L AE K S', 'OW', 'R IH G T', 'B AA K', 'W IH S K', 'S T IH K S', 'F IY T', 'JH UW T', 'P IY', 'B IY', 'L IH P', 'S W AO R M', 'B AH B AH L', 'IH T', 'N IY', 'TH IH NG K IH NG', 'S F IY D', 'AY IY', 'S T IH NG', 'M AE T', 'TH AY AH L T EH K T   W EH D IH G   T IH P   L EY T ER', 'B AO R N', 'L OW', 'L OW', 'N UW', 'HH IY T', 'S IY D', 'AE T', 'T UW', 'AH V', 'EH R', 'S W IY T', 'T AH F', 'F IH R', 'F AO R F AW R', 'TH AO N', 'F IH T', 'B AE T', 'P R EH T IH NG', 'S IH T IY', 'G L IH K', 'B L OW T', 'B R IH T', 'IY B R AA R B IY ER', 'AY T IY', 'SH AY', 'JH EH R OW', 'S P EY IH NG', 'AE T', 'P R IH K', 'TH AA N', 'R AY T', 'F R OW K ER', 'F R EH R', 'T R IH P', 'T W OW', 'T IY', 'S W AO R M', 'TH R IY', 'D AH G', 'B AH M', 'G L OW', 'JH AE M', 'L OW', 'D R IY Z', 'G L EY', 'AY', 'S T UW L', 'K AE M', 'S AE N', 'K L AA R', 'D EH G', 'F OW EY T', 'B IY P', 'B EY T', 'L UW P', 'CH IH L IY', 'N AH P', 'F R IY D', 'F R IY', 'D AA R K', 'DH EY', 'N OW', 'P AA', 'P AA R', 'DH AH', 'AO R P', 'S UW P', 'B AH K', 'D R UW P', 'SH UW P', 'F R UW T', 'SH AO', 'B R UW T', 'R IH R', 'P R AA D', 'R IY K', 'K L UW', 'T AA P', 'R EH SH T', 'F R UW T', 'F AO R W ER', 'B IY G', 'CH EY K', 'K EH M', 'B EH G', 'T AH N', 'AH', 'CH EY L', 'F R IY G', 'S EH L IH K', 'P AA L', 'W EH L', 'B L AE K', 'M ER K', 'S L UW P', 'G L AO R', 'T AA K', 'R EH S T', 'G OW', 'D R UW P', 'SH W AO G', 'P R EY', 'F AA R M', 'M IH R', 'S P R IH NG K ER', 'K R UW P', 'F R OW', 'S EH T N', 'B R AO T', 'S P R EY N', 'P AA', 'EH S   R IH T AH N', 'TH R UW T', 'F IY', 'AA R N D', 'HH EH R', 'HH ER M', 'P AY L', 'M AH CH', 'HH AE M', 'T EH T', 'S IH T IH NG', 'S P AA R N', 'K IH T AH N', 'B R OW K   B R AO N', 'F AA R M', 'L IY', 'S T AO R T', 'S P R IH T', 'F R AO N', 'R IH T AH N', 'B AH N', 'T IH P', 'EY CH', 'F R AW', 'W AY F', 'P L EY', 'B UW T', 'AH T', 'S K R IY N', 'F R AE P', 'L IY K', 'HH AA R M', 'HH AA R M', 'P OY AH L', 'K AA R', 'R IY K', 'TH R EH T IY', 'S AY', 'B AA R N', 'B EY', 'B AE D', 'W IY R', 'S L IH P', 'S AY N', 'F AA R M', 'Z AH T AH L', 'N IH SH', 'D R EH D', 'IH T', 'Z EH R AH', 'S IH P', 'T IH P', 'B AE T', 'P AA R T', 'B R AO T', 'AO L S', 'B R EH D', 'M AH SH', 'B IY K', 'K AO R K', 'OW', 'F R EH D', 'SH R AA T', 'F AO R T', 'EH N D', 'B IH T', 'HH AE T', 'Y UW T ER', 'D AA R K', 'AE L F AH', 'HH AA R P', 'HH AA R T', 'S EH L', 'K AA R SH', 'T EH S', 'G AA L F', 'T IH N', 'S IH N T', 'S K EY', 'V IH K ER', 'SH UW T', 'N AH T', 'IH NG K', 'S T R IH NG', 'F R IY T', 'S IH P', 'SH IY', 'HH EH R', 'P L EY', 'UW Z', 'S IY P', 'P AA M T EH R OW', 'B OW T', 'SH AA T', 'IH P', 'T AA R T', 'SH AW T', 'L EH N D', 'S EH R AH', 'N AA K', 'B R EH D', 'B Y UW D', 'M IH L', 'M AH CH', 'F R EH D', 'F EH D', 'SH R EH D', 'CH IH R', 'EH M B', 'G R OW T ER', 'S UW T', 'D R EH D', 'P AE L F AH', 'G AA R SH', 'SH R IH P', 'R IH T AH N', 'F R IH K ER', 'R EH F T', 'S UW T', 'S L IH P', 'S W IH NG', 'F R IH T', 'R IY S', 'HH ER', 'R IH K', 'D AA R K', 'HH IY T', 'P AE M T AH', 'S AA T', 'R AY JH', 'HH EH M', 'DH AH']\n",
      "SPEAKER: torgo_xlsr_finetune_F04_keep_all\n",
      "WER: 60.53%\n",
      "CER: 47.17%\n",
      "===================\n",
      "predictions_list: ['S W AO R M', 'S W IY T', 'F AW IY ER', 'T AO R N', 'SH IY P', 'AY T', 'IY G T', 'G AH S', 'JH EH S', 'OW K EY', 'EH M', 'B R AA R N', 'AY', 'N UW N OW', 'AH L F T AH V', 'P AE T', 'OW', 'B UW B AH L', 'Y OW T', 'S AY L IY', 'IH N', 'B EH S T', 'IH N', 'N IH T', 'TH EY W IH L   T EY K   EH D AH N IH P   T L ER', 'B AO R N', 'N OW', 'N UW', 'AE N', 'AY', 'EY T', 'L AY T', 'R IH T', 'T UW', 'SH IY D', 'SH EH R', 'SH R IY T', 'P IH T', 'R OW T', 'TH W EY', 'B OW N', 'SH IY T', 'S T AA R P', 'R AY T', 'D UW', 'T EY L', 'L EH F T', 'S T AO R M', 'T R AE T', 'P AA N', 'P R AA P AH', 'S AH JH ER T', 'P IH NG K', 'B UW P', 'JH AH JH AH S T EH M AH L AH N T   L EH F T', 'B AA R N', 'S T IY K', 'D AO R N', 'T UW', 'F AO R M', 'R EY JH', 'B R AW N', 'CH EH R', 'G R OW P', 'D AA K', 'AY AO R', 'R EH G', 'P OW K R AE K', 'K OW T', 'JH AE G ER D', 'T R IY K', 'G Y UW JH AH N T', 'S AY JH', 'HH AY IH M', 'D AO R M', 'T R AA P', 'S W EH L T ER', 'SH EH F T', 'T R UW P', 'K R EY', 'F AA R M', 'S IH P', 'W AA SH', 'DH OW', 'T R AO F', 'F EH R', 'CH IH R', 'T EY L', 'T R AY ER', 'CH AA P', 'B AE T', 'M EY T EH R EY', 'K OW AH', 'B UW T', 'F UW D', 'R EY', 'F EH T', 'B AA R T', 'CH EH R', 'R EY T', 'TH AO', 'B AE N', 'K OW L', 'F R UW T', 'S T ER K', 'R EY T', 'L EH F', 'F L AO R', 'B AE D', 'P R AE L T AH', 'S L EH P T', 'T IY', 'N IY', 'T R IY N', 'W UW P', 'S N UW P', 'R AY P', 'D AH B AH L', 'T AO R W AH N', 'R IH T', 'F AO R N', 'B AO R N', 'M EY AH T', 'T AA K', 'R EY K S', 'R AY S', 'R EY JH', 'S P AA R K', 'K OW P', 'F W IH T', 'T R AE T', 'T R EY S', 'S AY', 'HH IY R', 'SH IH R', 'N AO', 'D R AA P', 'S L EH F T', 'S W AO T ER', 'SH AO F T', 'K AE N B AE K', 'P R UH K', 'S K R EY P', 'F AO R', 'W EH R', 'S UW P', 'F AE D', 'W AO R F', 'HH EY T', 'L IH K T', 'F AA R', 'S T IH R', 'D OW T AA P', 'F IY L', 'B AE L', 'M IY T AH', 'F AE T', 'R AA', 'B R UW T', 'T IH R', 'S W AO R P', 'W AO', 'K L IH T', 'AY T AH', 'T R UW P', 'TH IY', 'W AY', 'P L AA R', 'B R AA R', 'K OW L F', 'CH AA P', 'F AY V', 'AA R   F IH R D', 'K L IY', 'D R AO', 'D AE K IH T', 'F AA L IY', 'AE L', 'L EH R', 'T EY L', 'TH ER', 'B AE T', 'EH D', 'S T AA R', 'SH AO N', 'G R EY T AH N', 'CH EY V', 'T AA', 'S IY V', 'F L AO R', 'F AA R', 'F IH T IH NG', 'P AY K AH T', 'P EH R', 'OW V M B ER', 'F ER K', 'S IY', 'S AA P', 'S AA R   F EH L TH', 'K AA R', 'JH UW L IY EH T', 'K L OW', 'Y EH S', 'L IY P', 'W AH L OY   AY   K EH N', 'AO T', 'R AE CH', 'S T AO R', 'SH AO', 'N AO R K', 'S EH T ER', 'HH AE M', 'K AA R K', 'S EH V ER L', 'T UW', 'S AA R K', 'TH AA T', 'HH AA R', 'L IY K', 'HH AE Z', 'S P AA R T', 'K AA R K', 'M AO S K', 'R EY V', 'HH IH T IH NG', 'T AO R N', 'JH AO N', 'N AO', 'P R IH R', 'CH EY P', 'S L ER T', 'S EH L T AH', 'G R OW P', 'W EH R', 'Y IY', 'T R OY P', 'F AY ER', 'W AO R T', 'K OW P', 'AH NG', 'W IH K', 'F IH R D Z', 'K EH L', 'B W AA T', 'AE CH', 'T AA R G AH T', 'P IH L IH N', 'L EH R K', 'DH EY', 'CH AA R L IY', 'SH AA R T', 'B R AY T AH N', 'T EY L', 'R EY K', 'F IH R', 'V AE T', 'P IY T IY', 'P ER T', 'OW K EY', 'S W AY R', 'T AA P', 'F AO R   TH AO T', 'K AH T AH N', 'T L IY T', 'F L AO R', 'AO R', 'OW', 'L AE K', 'T IH G', 'S IH T ER', 'AA R', 'R EY K S', 'S P AA T', 'T R AA P', 'D AA R N', 'S EH N D ER', 'HH OW M', 'D AA R K', 'S EH V ER N', 'B L OW W OW', 'HH AY', 'HH AA R P', 'L AY JH', 'S L IH P', 'T AA R K', 'M AH S', 'L EY K', 'F Y UW T IH V', 'F AO R M', 'D AO R N', 'W IH K ER D', 'P R AY R', 'HH AE NG', 'P L AA R K', 'S IY T AH', 'S AA R D', 'P L AA R', 'F OW B ER', 'T R EH R', 'TH R UW', 'R AE G', 'TH R IY', 'F L OW', 'B AH G', 'JH AH JH', 'R EY S', 'B AH N', 'G L OW', 'L IY G', 'D AE M', 'L OW', 'B AE N T', 'B AO R N', 'G OW', 'B R UW T', 'S IH B AH L', 'T UW', 'SH IY', 'K L UH R', 'T R AH B AH L', 'S T R AA R M', 'JH IY G', 'S IY EY', 'HH AE T', 'B IY P', 'EH R AH L', 'L AA K', 'S ER P', 'L AW', 'CH EY L', 'F R IY', 'K AA R', 'ER F', 'F R IH P', 'EH S EY CH', 'D R UW P', 'F R UW T', 'SH AA T', 'B R UW T', 'T R UW T', 'M EH R', 'D AA K', 'P R AE T', 'R IY K', 'G L AO R', 'T OW P', 'R OY T', 'F R UW T', 'S T R AH B AH L', 'F AO R W ER D', 'T R EY R', 'G R IY', 'G AH JH', 'B AH N B AH L', 'G OW', 'CH EY K', 'M IY', 'DH AH', 'T AH N', 'JH UW JH', 'K OW', 'AH', 'L AO R K', 'P AA R', 'B IY', 'W EH L', 'F IH R', 'S R UW P', 'G L UH R', 'R AY', 'T AA P', 'R IY OW K T', 'G AA N T', 'R UW P', 'S W EY', 'P R EY', 'M IH R', 'S P IY R NG K AH L', 'S IY', 'HH AY M', 'HH ER M', 'TH OY AH L', 'M AH CH', 'TH R AY', 'F IH T IH NG', 'F AA R M', 'B R AY ER', 'L IY', 'B R AO N', 'R IH T ER', 'T R IH P', 'N IH T IY', 'TH R EH T', 'TH R UW', 'T IY', 'TH R EH T IY', 'B AY AH L', 'P R EY L IY', 'S P AA R K N AH L', 'S W EY', 'R OY T', 'V AE T', 'HH AE M', 'HH AE M', 'R IY K', 'TH R EH T IY', 'S AY', 'M EY D', 'B AE D', 'AE T', 'V R AY ER', 'W IY V', 'S R IH N', 'M IH T IY', 'V UW T', 'EH F', 'T UW', 'Z UW L OW', 'D R EH G', 'IH T', 'Z IY AA R AH', 'P R IH P', 'T IH P', 'R AE K S', 'K OW T', 'SH R EH S', 'P AA R K', 'B AA R T', 'B R AE T', 'M Y UW', 'S AW TH IY S T', 'AE SH', 'B IY F', 'K AO R K', 'B R AO N', 'AA P', 'T R EH D', 'SH R AA T', 'T IH R', 'F AO R K', 'IY EY P IY', 'B EH T', 'M OW L K', 'HH AE T', 'AA R', 'M IY T', 'D AA R K', 'T IH K', 'P AE F AH', 'G AE SH', 'F UW D', 'TH R IY AH', 'K AH SH', 'G AA L F', 'T IH NG', 'AY', 'SH IH NG K', 'M IY T', 'P AO R K AA R', 'IH S K IY', 'K W IH K ER', 'B EH R', 'R EY', 'F AO R T', 'S P AO R T', 'IH NG K', 'K AA NG K T', 'S T R EY N', 'S AH N', 'SH IY', 'L IY K', 'HH EH R AH L', 'L AY F', 'K AE T', 'UW Z', 'S IH P', 'P UW M EH T OW', 'P OW T', 'SH AO R T', 'M ER S T', 'TH AO T', 'DH AH', 'D R IY G D', 'L EH N D', 'TH IH P', 'R AE K', 'N AA K', 'K OW D', 'B ER G', 'B R UW AH D', 'B Y AO R D', 'M AY L', 'M AH N SH', 'R AO N', 'F EY D', 'SH AO R T', 'T IY', 'K IH L UW', 'T AA P', 'OW T ER', 'S UW T', 'D AH G', 'F AH L', 'SH R IH F T', 'G AA L', 'HH IH M', 'M IY TH', 'B AY AA R', 'SH UW T', 'R EY T', 'Y IH NG K', 'S T R IH N', 'R IY K', 'HH ER', 'L EH D', 'SH IH P', 'HH AH M T IY', 'R AH G', 'S OW']\n",
      "SPEAKER: torgo_xlsr_finetune_M02_keep_all\n",
      "WER: 64.05%\n",
      "CER: 48.27%\n",
      "===================\n",
      "predictions_list: ['S IH P', 'R IH G T', 'S W IY T', 'F OW', 'F UW', 'EH T', 'EY P', 'T AO R N', 'EY G T', 'G UW', 'EH S', 'P AA P AH', 'N OW', 'IH', 'R IH L AE K S', 'HH ER', 'B IH T', 'P IY', 'B AA', 'B EY T AH', 'D R EH S', 'TH AY AH L T EY K T', 'B AO R N', 'OW', 'OW', 'N UW', 'R IH T', 'IY T', 'L IY K', 'T R OW L', 'R EY N', 'R AE K', 'R EY JH', 'CH EH R', 'R OW', 'T IY', 'D AE JH', 'EH S   W AO R', 'B AH M P ER', 'HH AO R W ER D', 'T UW', 'N UW', 'P IY AH', 'F L AO R', 'S IY D Z', 'D AH G', 'S P AH B AH L', 'SH IY T', 'W IY', 'R EY T', 'B IY T', 'JH AE G IH T', 'P L OW', 'S IH W ER M', 'S IY', 'AY IY   R OW', 'F AA', 'N IH R', 'P IY R OW   B OW TH', 'IY B AH N', 'F AO R W AO R D', 'B R AO N', 'P AE D', 'B IH T', 'T IY', 'S T AA R M', 'D AA R K', 'IH N', 'L IY G UW', 'P R AY ER', 'SH W AO R', 'K ER AE JH', 'R EY S', 'N OW L', 'P IY T', 'G AE D AH T', 'B AA', 'S IY T', 'S T AY K', 'W EY', 'T UH R D', 'AE T', 'P R EY K S', 'R IH CH', 'CH EY N', 'T R AA', 'S L IH T ER   W AO R', 'HH AO R N D', 'SH IH P   N IY', 'SH IH K S', 'R EH S T', 'S L IY D', 'D EH L', 'W IH T IY', 'S IH W EH D', 'W IY D', 'AE K IH T', 'JH AE G AH T', 'K R EY JH', 'R EY NG', 'W EH R M', 'B AH G AH N', 'OW   D AH B AH L Y UW', 'F L IH R D', 'Y UW B EH T AH', 'T R AH B AH L ER', 'B AE B AH L T', 'W UW M', 'R AE D', 'D AE G ER', 'B AO L   R IH N', 'S K AA R', 'SH IY   W AO R M', 'K AA D', 'T R AE CH', 'EH R Z', 'N OW L D', 'G L OW', 'S T EY K', 'EH R ER', 'M IY', 'S IY L IY', 'W IH L   AA R W ER', 'R EY', 'S IY', 'R AY T', 'CH AA R L IY AH', 'P IH R IY', 'T IY   Y IH R', 'G AH L AO R IY', 'AY   HH AY AH T ER', 'P R IH N   K EY T', 'P AY', 'F UH R', 'S AY D', 'IH T   W IH S   AH', 'Y EH S', 'AH   Y EH S', 'M ER D', 'HH IY   AY', 'F L AA T', 'T AY   Y IY', 'AY   S EH D   K AE N', 'AE L F ER W AA D', 'R AE D', 'F L UW AH T', 'B R AO', 'D EY T AH', 'S IH G L IY', 'HH AE D', 'N IY', 'Z AW', 'T AY L D', 'W IH SH', 'W IY D', 'S L AY D', 'SH IY T', 'B IY D', 'IH T   EH S   S N UW P', 'D R UW P', 'D IH R', 'IH P IH T IH NG', 'TH IY P IY', 'F IH N', 'HH IH L', 'S IY', 'S T OW', 'D IY D IY', 'Z IY K', 'T IY EY CH   F AA K S   T R AA T', 'B L AA D', 'AY   S K AO R', 'P AE L', 'AE T', 'HH AE M D', 'HH EH M', 'L IH CH', 'D AY D OW   T IY   Y EH T', 'N AY N   AA R', 'W IH T K IY', 'N IH T IH NG', 'HH AA R T', 'S OW', 'N OW V AH M B ER', 'CH IH P', 'L EY L IY', 'P ER T', 'S IY D   D AA', 'B AE L   D IY', 'HH AH M', 'P AA T', 'Z IY OW', 'S AY JH D', 'S ER JH AH N T', 'DH OW   Y EH S', 'R IY T', 'S AE D', 'S IH T IY', 'R AH M IY OW', 'AE K T   R AA', 'EH N D', 'S IH T IH NG', 'EY N   F AO R   Y UW', 'L AY T', 'B IY P', 'P R IY D', 'B IH T', 'W IH K AH N', 'P IY', 'S EH L ER', 'HH AE N D IY', 'B EH T IY', 'L IH K EY', 'D AE D', 'V AA T', 'G IH L IH T S   T AA', 'S OW L', 'T R EY D', 'TH R UW', 'R EY JH', 'T IY', 'TH R IY', 'B L OW', 'B AH NG K', 'JH AH JH', 'AH M', 'B L AA', 'JH AE M', 'M OW', 'B R AO N', 'OW', 'R OY T', 'S P IH L', 'K OW', 'SH IH N', 'S T R AA R M', 'JH AE G IY', 'F IY', 'HH AE T', 'B IY P', 'K L UW', 'F R IY D', 'F R IY', 'D AO G', 'IH M', 'P IY', 'P AA R M', 'B R AO N', 'D R UW P', 'SH IH P', 'M AH K', 'F R UW T', 'EH S', 'B R UW T', 'T R UW T', 'P AE T', 'R UW P', 'T AA P', 'S W ER T', 'R OW T', 'S AH B AH L', 'T R EY', 'R AE G', 'B L AO R', 'JH AE JH AH T', 'CH EY K', 'B OW N', 'JH UW JH D', 'M IY', 'S EH L IY AH K T', 'B AE N', 'P IY', 'B AE N D', 'W EH L', 'R EH R', 'M ER K', 'T AY', 'F R UW T', 'S IH', 'T AA L', 'R UW P', 'W AY F', 'S L EY', 'TH AO N', 'M IH R', 'K R UW P', 'K AW T', 'S EH V ER IH N', 'SH AH N', 'W IY R   R IH T AH N', 'S IY', 'F EH R AH L', 'T OY L', 'M AH CH', 'TH R IY', 'TH EH L IY', 'S L IH T IH NG', 'S P R IH G N', 'B R AW T B R AO N T', 'F AA R M', 'B R AY ER', 'L IY', 'DH AH', 'SH R AO N', 'R IH T AH N', 'B AH G N', 'HH R IH G', 'F AA K S T R AA T', 'OW', 'T W OW', 'W AY P', 'TH AE G', 'R EY T', 'S W EY', 'T R EY K', 'HH AA R M', 'EH K AO F', 'L IY T', 'F IY D', 'R IY K', 'P R IH T IY', 'S IH P IH NG', 'B R OW T B AO R T', 'M IY', 'N AY N', 'L AA T', 'R IH R', 'R EY', 'T IY EY CH', 'S R IH N', 'B AH M', 'F AY', 'T UW', 'Z UH R OW', 'M Y UW S', 'D R IH G', 'UW T', 'Z EH R AH', 'T IH P', 'T IH P', 'R AE K S', 'K OW P', 'AH S', 'B AH D', 'P AA R T', 'AH', 'F R EH D', 'B IY SH', 'K AO R K', 'UW', 'TH R EH D', 'T AA P', 'F AO R K', 'IY EY P IY', 'P UW', 'F AE T', 'AO R', 'TH R IY', 'D AH G', 'AE L F AH', 'S EH L', 'EH SH', 'F UW D', 'R IH S T', 'T IY', 'IH M', 'SH IH NG K', 'F L IH K ER', 'S K EY', 'P AO R K', 'F IH K T ER', 'B EH R', 'N AW T', 'Y IH NG K IY', 'S P R EY N', 'S IH NG', 'SH IY', 'R IY', 'HH AY M', 'L AY F', 'UW Z', 'HH EH P', 'P AH M T R EY', 'P OW T', 'S AO R T', 'N AH S T', 'TH IH T', 'SH AO', 'L EH N D', 'P IH P', 'R AE K', 'N AA K', 'K OW D', 'B R AO D', 'B R AY AH D', 'M Y UW', 'G IY S EH', 'F R IY D', 'T R UW P', 'F AO R T', 'R EH D', 'K IH L AH M', 'B R EH D', 'IY G ER', 'S UW T', 'R IY', 'D R EH D', 'OW', 'P ER T', 'S UH T', 'SH R AH D', 'R AW S T', 'S AO R', 'R IH T AH N', 'HH IH M', 'B AY', 'M AH S T', 'TH R IY', 'P IY', 'S P EY N', 'F R UW T', 'R IY S', 'HH ER', 'L IH T', 'D ER S', 'HH IY T', 'P OW T', 'S AO T', 'UW P', 'M AH S T']\n",
      "SPEAKER: torgo_xlsr_finetune_M05_keep_all\n",
      "WER: 63.34%\n",
      "CER: 50.35%\n",
      "===================\n",
      "predictions_list: ['S W IY T', 'EY P', 'P AE T', 'T AO R N', 'G EH Z', 'JH EH S', 'W EH S', 'N UW', 'S IY D Z', 'W IH CH', 'P AA P AH', 'CH IH R', 'IH K', 'R IH L AE K S', 'OW', 'AY', 'B UW B AH L', 'T IY', 'IH T IY', 'L AY', 'IH N', 'AY', 'DH AH   W IH L   T EY K   IH NG G IH D ER', 'B AO R N', 'N UW', 'N UW', 'S EH D', 'R IH T', 'EY G T', 'W IH SH', 'F AA M', 'N AY OW P AO F', 'JH IY', 'T R EY', 'T IY', 'S AH B K', 'S P AA R K', 'B IY T', 'D R IY P', 'W AA Z', 'S EH R', 'T AO R M Z', 'M AO R T', 'SH R AY T', 'T W IY', 'S IH T', 'T IH T S K', 'G AA L F', 'G AA L F', 'R IY S', 'D AH K', 'AE T', 'D ER S', 'B AH M', 'D AE G', 'B AH NG', 'R EY', 'F IY D', 'R IH N', 'W ER S', 'F IY AH T', 'F UH T', 'B IY T AH D', 'T UW L P AO', 'HH OW T', 'F AO R K', 'F IH P', 'S P AA R K AH L', 'D AH S', 'F IH R', 'AH P', 'D R EY N', 'R EY K IY', 'F OW P', 'B IY', 'T AO R M Z', 'B AA', 'EH R', 'T R EY T', 'P IY D', 'F IY T', 'R EY JH', 'G ER', 'T UW', 'S IH P', 'L IY K', 'D R IY S', 'W IH M', 'T AO R M', 'F IH L', 'F AE JH IH K T', 'D R AY T', 'F OW L', 'DH AH', 'D R IY T', 'F EH R', 'W IH SH', 'HH UW T', 'W IH S K', 'B AH B AH L', 'G OW L F', 'B AE TH', 'S P IH R', 'B IH L', 'D IH R', 'B AY R', 'S T IH R', 'AY', 'L AH G', 'T W AO R', 'TH AA G ER K', 'L OW', 'B AH G   B AA   HH AE Z   B EH R', 'G AO S   P OW P OW   L AY   B IH F T', 'W IH K T', 'B IH T', 'R IY L F', 'AH F', 'R AA K', 'F Y UW', 'B AH T', 'AY JH', 'SH UW P', 'SH EH R', 'S T IH R', 'R AY JH', 'T G AE L M', 'S L EH D', 'K AE T', 'JH AA L IY', 'D IH G AH L', 'D AY', 'K AO R N', 'JH UW L IY EH K T S', 'B L AA B K S', 'L OW', 'IH T', 'B IH L B AY T IH NG   N IY D Z', 'B IH N T', 'JH IH G', 'L IH F T', 'S P AE K', 'B IY T', 'T AH M', 'D AH B AH L', 'D R EY T', 'D IH K', 'S P EY S', 'S T UW', 'D R IH S K', 'S W AO R', 'T AO R', 'W IH P', 'B L IH P', 'S T EH R', 'D AO R F', 'D UW', 'D R IH T', 'B AH K', 'M AY S', 'T AO R M', 'UW Z', 'W IH CH', 'B AY G AH L', 'B AE S T', 'S T IH K', 'B IH T', 'HH AE T', 'B L IY', 'W ER', 'W IY L', 'L UW P', 'B EH R', 'AA R', 'N AH T', 'P L AO R', 'G AE DH ER', 'B UW T', 'CH AA R', 'B IY B UW   B EH L', 'B OW TH   P OW P IY AA B IY Z   DH EH R', 'T IY', 'B IH T', 'ER JH D', 'AW S', 'L AA K', 'F EH D', 'S AY G OW L F', 'IY T', 'F R UW T', 'HH AE V IH N', 'S L EH T S', 'CH AA R L IY', 'JH AY K AH L', 'T AY', 'P AO R N', 'N EH B IY AH S T   AH P', 'EH S', 'P AE P IH K', 'L AE L', 'HH EY T IY', 'B IH T', 'B AY T IH NG   AE D   P IH T IH NG', 'B AE G', 'G EH CH', 'JH AE K ER', 'R AY T', 'F R AO R', 'CH EH R', 'R AE G Z', 'F L IY T', 'B AA T', 'T UW', 'TH R IY', 'B AH K', 'R IY', 'D UW D', 'R AE S', 'HH AH M', 'OW', 'R IY JH', 'G AH M', 'L OW', 'P R EH Z', 'B AA N', 'G L EH M', 'B UW T', 'R IY S', 'S P IY', 'HH AH M', 'SH IY', 'K L AO R', 'D AH B AH L', 'D AA R G', 'HH AE T', 'S T AO R P', 'AH', 'B IY P', 'EY L', 'CH EY P', 'F R IY V', 'S L IH P', 'G AA', 'N UW', 'P AA R', 'B AE T', 'EH S EY CH', 'W IY R', 'B AH K', 'S AO', 'D R UW P', 'SH UW P', 'P AY L', 'F R UW T', 'SH AA P', 'B R UW T', 'R IY R', 'D AA K T', 'P AE T', 'R IY K', 'T OW P', 'F R UW T', 'F AO R', 'F IY', 'G R IY', 'CH EY K', 'AH', 'F AA R', 'W EY M', 'F R EH D', 'B AA', 'N AA', 'P EH L', 'SH IY', 'W IY', 'P AY R', 'F IH R', 'S R UW P', 'R AE K T', 'G AW N T', 'R IY P', 'S T IH R', 'W AY T', 'S L EY', 'F IY AA R', 'T AE G', 'F AO R W ER', 'S P R EY N', 'SH W AY', 'P R AE T', 'S IY', 'HH IH L', 'F AY V AH L', 'M AH CH', 'TH R IY', 'P IH G N', 'B R AO B R AW N', 'F AA R K', 'B R AY ER', 'L IY', 'AH', 'S P AO R T', 'S P AA R K', 'F R AO N', 'R IH T AH N', 'T IH P', 'F IH L', 'T OW', 'Z UH R OW', 'W AY F', 'S W EY', 'S P R EY', 'HH AE M', 'R IY K', 'TH R IY T', 'S AY V IH NG', 'B R AE B W AA N', 'L IY', 'F AH N D', 'R IY ER Z', 'W IY R', 'B AA', 'S P ER T', 'S AY N', 'P AA R K', 'V UW T', 'T IH L', 'Z UW T', 'D R AY V AA', 'Z IH R OW', 'R IH P', 'S AY T S AY T', 'T IH P', 'R AE K S', 'K AA NG K T', 'K OW EY T', 'D R IY Z', 'B ER', 'P AA R T', 'AH N S OW', 'B IY Z', 'K AO R K', 'B R AO N', 'S AA P', 'SH AO R T', 'T UH R', 'F AO R K', 'R UW IH D', 'IY EY P IY', 'B EH T', 'M AA K', 'F AE T', 'OW L AH R', 'M IY T', 'T AA P', 'AE L F AH', 'S EH L', 'K AE SH', 'F UW D', 'F ER Z', 'G AA L F', 'T IH NG', 'F IH N T', 'R EY T', 'F AA K ER', 'S K AY', 'F AO R T', 'B EH R', 'M AH K', 'S IH P', 'S T R AE N', 'F ER T', 'S OW', 'SH IY', 'R IY', 'HH IH M', 'L AY F', 'S IY P', 'P AA N T R AH L', 'F OW T', 'SH AO R T', 'M EH S T', 'TH AH T', 'S AW TH IY S T', 'M IH SH', 'L EH N D', 'S ER OW AH', 'R AE K', 'K OW T', 'B ER D', 'B ER D', 'M AH N CH', 'B R AE N T', 'SH R EH D', 'T R AA', 'R EH D', 'B EH G', 'HH EH T', 'SH OW', 'G L AW T L ER', 'S UW T', 'L IY K', 'T IH P', 'SH R IH T', 'R AH S T', 'B AY', 'CH UW P', 'P IY', 'S P R IH NG', 'F R AA T', 'S IH NG', 'G R IY F', 'HH ER', 'P R EY', 'HH IY T', 'P OW T IY', 'S AA R T', 'M AH S T', 'JH IY', 'S OW']\n",
      "SPEAKER: torgo_xlsr_finetune_M04__keep_all\n",
      "WER: 68.61%\n",
      "CER: 53.43%\n",
      "===================\n",
      "predictions_list: ['S IH P', 'EY P', 'T AO R N', 'S P EY D', 'L IH B', 'S IY', 'S P EY JH', 'L IH M', 'EY T', 'JH IY', 'AA K', 'IY T', 'JH EY JH D', 'S IY D Z', 'EY P AH', 'N UW', 'AY', 'B AE D', 'R IH L AE K S', 'HH IY R', 'K AA K', 'F L AW R', 'F IY T AH', 'S T IH K S', 'S T AH B AH L', 'AY', 'P AE P', 'S IH P', 'B AH B AH L', 'AA T', 'M IY T AH N', 'R OW', 'CH IY K IY', 'B EH S T', 'OW', 'IY G T', 'DH EY   W IH L   T EY K   AH   W IY   IH P', 'B AO N', 'B AO N', 'N OW', 'N UW', 'S AE N D', 'R IH TH', 'HH ER', 'R IH T', 'F L AA B ER', 'G ER L', 'T R UW P', 'TH R UW', 'B R AE G', 'F L IY T', 'R EY K', 'TH R IY', 'S T IH K ER K', 'T R IH N', 'HH AA R N', 'TH R IY', 'F L OW', 'B AH G', 'R IY', 'D AH JH', 'L IH M', 'HH AH M', 'B AH L OW', 'G AH M', 'M OW', 'B R UW', 'B AO R N', 'OW K OW', 'AY', 'S R IY', 'S P IH L', 'K AH M', 'SH ER', 'K L OW', 'D R AH B AH L', 'D AA R T', 'F AE T', 'S T AO R P', 'F AA', 'EH R ER', 'L AA K', 'S ER P', 'L OW', 'N AA P', 'B AH G', 'S L IY P', 'P AA T', 'P AA R', 'ER F', 'W EH R D', 'B AH K', 'F R UW P', 'S AO G', 'S IH P', 'P AY ER', 'F R UW T', 'S AO', 'M IH R', 'P AA', 'R EY K', 'T AA P', 'S ER T', 'R EH S T', 'F R UW T', 'T R EY', 'F R IY', 'S T EH R K', 'B L OW', 'TH R IY', 'CH EY K', 'M IY', 'B IY', 'T AH N', 'D AH G', 'S W AO R', 'AH', 'P AA', 'B AA', 'W IY D', 'P IY AO R EY', 'B R AY ER', 'S L IH P', 'JH IY', 'T IY', 'SH UW T', 'R AA K T', 'R UW P', 'S W EY', 'B R AY ER', 'TH AA R M', 'M IH R', 'S P AA R K AH L', 'S W AO R', 'F OW', 'S IH NG', 'F R AW T', 'P R AE T', 'W IY R   R IH T AH N', 'P R AW T', 'S IY', 'AE N T', 'HH IH L', 'HH ER M', 'P R AY L', 'M AH CH', 'TH R IY', 'TH R IY IY', 'S AY V IH NG', 'P AA R M', 'B R AH B R AO N', 'F AA R M', 'B R AY ER', 'L IY', 'EY CH', 'S P AO R T', 'S P R IH T', 'F R AO N', 'R IH T AH N', 'B AA R M', 'T IH P', 'TH R EH T', 'F R AW', 'P AA R T IY', 'W AY P', 'S L AY', 'TH AH G', 'S P AA R K N AH L', 'S W EY', 'S EH V R AH N', 'B R AO T', 'F R AE P', 'HH AE M', 'B OY AH L', 'HH ER M', 'R IY K', 'TH R EH T IY', 'S EH V AH N', 'S AY', 'B R AO B W AA N', 'V AA', 'B AH N', 'R EY T', 'P R AY ER', 'W IY D', 'B AA', 'B R AO N', 'F AA R N', 'SH IH T IH NG', 'Z UW L OW', 'K AA R T IY', 'D R EH G', 'IH T', 'Z EH R AH', 'S IY R AH', 'P R IH T', 'T IH P', 'R AE K S', 'T R AH S T', 'P AO R T', 'S P AA R K', 'B R AE G T', 'M IH L W AO', 'P IY EH S', 'B R EH D', 'B AE K', 'UW', 'T R EH D', 'SH R AA T', 'T UH R', 'F AO R N', 'F AO R N', 'R AA D', 'EH M P', 'T UW', 'B EH N T', 'F AE T', 'B Y UW T ER', 'M IY T', 'AE L F AH', 'S EH L T', 'B R AH SH', 'F UW D', 'T R EY', 'K R AH SH', 'G L OW T', 'G OW L P', 'T EH N', 'HH IH M', 'S IH N T', 'R AE T', 'F AO R K AA R', 'IH S K IY', 'F AO R T', 'D IY L T AH', 'R AA', 'B R AH T', 'SH IH P', 'IH NG K', 'S P R EY N', 'T R IY T', 'SH IY', 'R IY S', 'HH EH R', 'L AY T', 'S T AY S', 'S IH P', 'P AA N T ER', 'B OW K', 'TH AO T', 'AY', 'F AA G', 'SH AO', 'JH EH S IY', 'L EH N D', 'Z AY R AH', 'R AE K', 'B AH G', 'B AA R T', 'B R AH G', 'M AY W', 'F R EH D', 'G OW S', 'TH R EH D', 'SH R EH D', 'T UW ER', 'R EH D', 'EH M', 'B R EH D', 'B R AH DH ER', 'S UW P', 'P AE L F AH', 'D AA R SH', 'F UW L', 'N AA T   N AY S', 'SH AO R T', 'G AA T', 'IH M', 'M IY T', 'SH IH P', 'S P R IH N', 'F R UW T', 'R IY K', 'HH ER', 'B R EH D', 'D AA R S', 'HH IY T', 'P AA N T AH', 'SH AW T', 'N AH S T', 'R AH JH D', 'HH EH M', 'EH R', 'R EY K S', 'F AE T', 'S W IY T', 'T EH SH', 'F UH R AW R', 'B IH T', 'P R EH T IH NG', 'K R AY T IY', 'G L IH K', 'N OW', 'B L OW T', 'B AY T', 'HH EH M', 'R IH T', 'IY AA R   B R AY ER', 'S AY Z G IH SH', 'F AW T', 'B R AY T']\n",
      "SPEAKER: torgo_xlsr_finetune_F03_keep_all\n",
      "WER: 61.19%\n",
      "CER: 47.64%\n",
      "===================\n",
      "predictions_list: ['S W IY T', 'F UW', 'IY T EY', 'T AO R Z', 'T AO R Z', 'AY T', 'IY T', 'G EH S', 'F OW', 'F AW ER', 'F IY T', 'N IY OW', 'AE K', 'R IH L AE K S', 'OW', 'IH T', 'P AE P', 'B IY', 'S T AA M ER', 'P UW L', 'R IH T', 'F AO R', 'T AY IH NG', 'R IH CH', 'AY', 'R AY T', 'TH AY AH L T EH K T   AH D EH NG   T R IH P   EY T', 'B AO R N', 'L OW', 'N UW', 'HH AE D', 'S IY', 'SH IY IH', 'IH T', 'AA P', 'IH T', 'G OW', 'HH EY L', 'S K AA R', 'P R EY L AY N', 'DH AH', 'F IY', 'R AE NG K', 'W IY L OW', 'P L EY', 'K EY P', 'JH AE NG G AH L', 'EY HH IY', 'B AH G', 'F W AO R M AH', 'R EY', 'F AO R N', 'N AA T', 'R EY JH', 'V AE T', 'F IY', 'HH AE M', 'F EY L', 'R EY', 'G R UW B AH L', 'K L EY', 'S L AH B L AH B', 'F W ER', 'G AE JH AH T', 'K IH P', 'K L AA R AO', 'F AW W AH L', 'M EH R', 'S N EY K', 'HH AO L P', 'W EH T', 'G AW', 'S K AO R', 'B IY T', 'K R EY N', 'L IY P', 'L IH P', 'B AO R N', 'N AA K', 'R EY V', 'S N IY', 'B AO B AH L', 'HH EY L', 'HH IY R', 'AE L F AH L', 'K R AW B AH L', 'AY', 'P L EY', 'F AO R', 'G AA R G IH T', 'HH AO R N', 'F IH R', 'S AY P', 'G AE JH IH T', 'S T UW L', 'S AO R W', 'M IH R', 'F R OW B AH L', 'G IH R OW', 'CH IH R', 'TH R UW', 'B AA R K', 'F L IY T', 'R EH D', 'S T AO R K', 'T R AA P', 'TH R EH T', 'F L OW', 'B AH G', 'R IY', 'AH M', 'G L OW', 'S T AA R M', 'K AO R T', 'L OW', 'AH', 'G AA L', 'F R UW T', 'S P AH L', 'T AA M', 'SH OW', 'K L AO R N', 'S P IH K S', 'D AH G', 'K AE L', 'F OW EY T', 'HH AE T', 'B IY P', 'S AO R P', 'T R EY L', 'R UW T', 'F R IY V', 'F R IY', 'S EH L OW K', 'AH M', 'P AA T', 'P AA R', 'B R AO N', 'S W OY T', 'S T AA P', 'S AO', 'D R UW P', 'SH UW P', 'P R IY OW L', 'M ER T', 'F R UW T', 'SH AO', 'W EH S', 'R IH R', 'P AA T', 'R IY K OW', 'G L AO R', 'S OY R T', 'R AE T', 'F R UW T', 'F R AW ER', 'TH R EH R', 'P AA R K', 'F R IY', 'S T ER K', 'F L UW', 'G R IY', 'JH IH N AH L', 'CH EY K', 'M IY', 'T AO R', 'JH UW JH D', 'S W AO R', 'F AA', 'CH IH L', 'F R OW', 'S EH L IH K', 'B AA', 'P EH L', 'B AE N', 'W IY', 'M AA R K', 'R UW P', 'R AY', 'SH UW T', 'R AA K T', 'R UW P', 'S L EY', 'M IH R', 'S P R IH K N', 'K OW T', 'S EY N', 'B AA T', 'P R AE T', 'TH R UW T', 'S IY', 'HH EY L', 'HH ER M', 'T AY L', 'M AH CH', 'HH AA R M', 'K L IY G', 'TH R AY', 'S AY T IH NG', 'S P AA R N', 'B R AO B R AW N', 'F AA R M', 'V R AY ER', 'L IY', 'DH AH', 'S P AO R T', 'T R AO N', 'R IH T AH N', 'IH T', 'HH AY T R IH NG', 'N IH T IH G', 'R EH T', 'F R AA G', 'T W OW', 'W AY P', 'SH UW T', 'IH T', 'HH AE M', 'TH OY AH L', 'K AA R F', 'S W IY D', 'R IY K', 'TH R OW', 'S AY V IH NG', 'S AY', 'B R AO N B R AW N', 'DH AH', 'F EH G', 'B R AY ER', 'W IY V', 'B Y UW', 'S P L IH T', 'S IH G', 'W IH L T IH T AH N', 'HH AY T ER IH NG', 'K IH T IH NG', 'V UW T', 'T IH L', 'Z UH R UW', 'D R EH F T', 'OW M', 'T IH P', 'R AA K S', 'K OW P', 'T R EH S', 'P AA R T', 'B R AY AH D', 'R EY', 'B R EH D', 'N IH SH', 'L IY K', 'R AO N', 'TH R EH D', 'SH AO R T', 'K UW R', 'F AO R K', 'IY EY P IY', 'B AH D', 'M AO L K', 'UW T UW ER', 'M IY T', 'S EH L', 'K AE SH', 'F UW D', 'G AA L F', 'T IY', 'M IY T', 'F L IH K ER', 'S K EY', 'P R IH K T ER', 'N AA T', 'P AW T', 'IH NG K', 'S P R EY N', 'S IY', 'SH IY', 'HH EH M', 'L AY F', 'UW Z', 'SH IY P', 'P OW T EH R AH', 'P OW T', 'SH AA T', 'F R AA K', 'SH EH L', 'L EH N D', 'R AA K', 'N AA K', 'K OW D', 'B R AO N', 'B R EH D', 'B ER D', 'M IH L', 'M AH N SH', 'F R EH D', 'B R AO N', 'SH R EH D', 'R EH D', 'ER N ER', 'L IY K', 'P ER T', 'G EY Z', 'AA T N IH S', 'SH R IH D', 'B R IH T AH N', 'HH IH M', 'V R IH K T ER', 'N AH T', 'SH R IH P', 'S P R IH N', 'EH S', 'G R IY S', 'HH ER', 'L EH G', 'G AA R S', 'HH IY T', 'P OW T', 'R AH G D']\n",
      "SPEAKER: torgo_xlsr_finetune_F01_keep_all\n",
      "WER: 63.24%\n",
      "CER: 48.28%\n",
      "===================\n",
      "predictions_list: ['S W IY T', 'F UW', 'HH EY T', 'HH IH R', 'T AH N', 'AY T', 'B OW AH L', 'R IH T', 'AY T AH', 'SH EH D', 'G Y UW', 'OW K EY', 'HH ER', 'P IH K', 'AE N D', 'R IH L AE K S', 'AA G', 'R EH D', 'JH UW L AH T', 'B R AE N', 'B UW B AH L', 'T IY', 'N OW', 'N IH T IH NG', 'T IH L IY', 'S T IH NG', 'AY', 'N AW', 'EH K S P L AO R', 'TH AY AH L T EH K T   AH   W EH D IH N T R IY   T L ER', 'B AO R N', 'K AA N OW', 'K AA N OW', 'N UW', 'HH AE T', 'SH AY', 'P AE T', 'N AW', 'B L OW', 'P AE T S', 'N AA N OW N OW', 'AH P', 'F AO R', 'IY T', 'P AE N T S', 'B AE T', 'M IY T S', 'N OW', 'R AY S', 'SH IH P', 'IY F IY', 'M AH CH', 'F EH R', 'V IH K T AO R', 'P OW P AH', 'T R UW T', 'TH R UW', 'B R AE G', 'S P AA R K', 'F L IY T', 'T R OY', 'TH R IY', 'F L OW', 'B AH NG K', 'TH R IY', 'D EH N T', 'B AH B', 'N OW', 'G AE M', 'M UW', 'B AE S', 'B R AW N', 'EH K OW', 'S T EH L', 'T AH N', 'SH AA R', 'K L AO', 'D EY JH', 'DH AH', 'HH AE T', 'S W AO R P', 'EH R ER', 'N EH L', 'D AH G K', 'S L AA R P', 'Y AA', 'P AA', 'P AA R M', 'AA P', 'S W OY T', 'W ER M', 'B AH K', 'S T IH R', 'CH UW', 'SH UW P', 'L AA P', 'M AH K', 'F R UW T', 'SH AO TH', 'T R UW T', 'T AY', 'P AE T', 'R UW P', 'G L AW R', 'T AA P', 'S AO R T', 'F EH R', 'R AO T', 'S UW T', 'F AO R', 'F AO R B', 'P AA R K', 'G R IY', 'G AE G', 'CH EY K', 'K EH M', 'DH AH', 'S T R AO NG', 'JH AH JH', 'S IY', 'AH', 'N IY', 'CH IH R', 'S EH L AH P T', 'P AA', 'P EH L', 'W IY', 'P AY L', 'M AA R K', 'S R UW P', 'G L AO R', 'SH OW T', 'R AE T', 'W AY T', 'S W EY', 'P R EY', 'M IH R', 'F OW', 'K OW T', 'S R IY R IH NG', 'S P R EY N', 'P AA T', 'W IY R   R IH T AH N', 'T R AH F T', 'S IY', 'HH IH M', 'HH ER M', 'L OY AH L', 'M AH CH', 'F R IY D', 'TH R EH T IY', 'P AA R N', 'F AA R M', 'R ER', 'L IY', 'DH AH', 'S P AA R K', 'S P R IH K', 'R IH T AH N', 'T IH P', 'HH IH M IH NG', 'F R AW', 'CH IH R', 'B R AO G', 'K R OW CH', 'B AH T', 'S P R EY', 'HH EH R M', 'L IY K S', 'F IY G', 'R IY K', 'P R IH T IY', 'CH AY R', 'B AE D', 'B AH D', 'L IH T', 'R IH R', 'W IY R', 'B EH R', 'Z IY R UW', 'S IH K ER', 'D R EH G', 'B AE D', 'Z EH R AH', 'IH P', 'T IH P', 'R AA K S', 'K OW EY T', 'SH EH S', 'B AE G', 'P AA R T', 'B R AW T', 'M IH L W IY', 'IY', 'M SH EH', 'B IY T', 'B R AO N', 'UW T', 'TH R EH D', 'SH AA T', 'CH AA R', 'F AO R', 'F AO R', 'EH M B', 'B AH T', 'M OW L K', 'F AE T', 'B UW T', 'M IY T', 'TH IY L', 'D AA R K', 'T IH K', 'AE F AH', 'HH AA R T', 'T IH L', 'T UH SH', 'F UW D', 'T AA', 'K AE S', 'G AA L F', 'T IH NG', 'SH IH NG K', 'P AO R K AA R', 'IH S K IY', 'B EY T AH', 'B IH R OW', 'N EH T', 'P AO T', 'SH AA P', 'IH NG K', 'S L IH P', 'S P R EY N', 'SH R IY T', 'SH IY', 'G R IY Z', 'HH EY L', 'L AY F', 'SH IY P', 'P OW T', 'P AY', 'D AA R T', 'TH EY', 'L EH N D', 'S AY L', 'TH IH P', 'R AE K', 'N AA K', 'K OW D', 'B AA D', 'M AH N CH', 'M AY S', 'R AE NG', 'F EH D', 'SH AO R T', 'T IY', 'EH M D', 'B AH D', 'M AO L K', 'HH EH T', 'W IH L G ER', 'L IY G', 'D R EH D', 'T IH P', 'HH AA R K', 'P AA R T', 'D EY Z', 'AE T   N AY S', 'SH R EY', 'G OW F', 'M IY K S', 'B AY L R OW', 'L EH S T', 'B AA T', 'S P R IH NG', 'F R IY T', 'G R IY S', 'HH ER', 'HH IY P', 'AY', 'R AH G']\n",
      "SPEAKER: torgo_xlsr_finetune_M03_keep_all\n",
      "WER: 62.79%\n",
      "CER: 48.23%\n",
      "===================\n",
      "predictions_list: ['K IY M IY', 'S W IY T', 'R IH T', 'HH ER', 'T AO R N', 'EY T IY', 'EY T', 'G EH Z', 'G OW S K', 'EH T', 'D R UW P', 'R IH L AE K S', 'OW K EY', 'R IH G T', 'F AA R', 'B R AY AH ER', 'CH IH R', 'B AE S T', 'P AA', 'B IY', 'T UW B AH L', 'AE T', 'T R EY S IY', 'S IH P', 'R AE G', 'L AY', 'EH S', 'P IH T', 'T IY', 'DH EY   W IH L   T EY K   JH IH P   EY T ER', 'L EH', 'F EY', 'B AO R N', 'N OW', 'N UW', 'EH S', 'AE T', 'IY T', 'S IY', 'F IH R', 'P AE D', 'JH AE G AH T', 'V IY T', 'D AO R', 'F AA R N', 'D UW', 'M OW L', 'F AE T', 'R EY G', 'S P AE G AH N AH T', 'Y AE S', 'IY D W IY', 'W ER M', 'B AE D', 'JH AE G IH D', 'S T IH K', 'B IH T', 'D AA R T', 'B AE T', 'S T UW R M', 'W IY N', 'F IH L AO R', 'S AY D', 'B R AO T', 'T EY', 'P R AY R', 'P R EY', 'S W OY T', 'CH AA R', 'R UW D', 'W IY CH', 'R IY', 'R IY OW D', 'T AO R M', 'T AY L', 'S AY', 'T AY ER', 'R EY P', 'EY D', 'R UW P', 'SH AY', 'F OY D AH', 'T R EY T', 'K ER P', 'HH IY R', 'T UW', 'R UW P', 'SH AY', 'AA R K', 'P AA R T', 'EH R', 'F AO R W ER D', 'R EY', 'K Y UW K', 'M IH R', 'AH T', 'S ZH R IY', 'T AO R N', 'F IH T', 'S IY D', 'F R OW T', 'R EY T AH N', 'G EH T AH N', 'R EY K', 'M AY', 'T AO R P', 'N IH T IH NG', 'B AO R T', 'T UW AH L', 'L AY T', 'IY V AH', 'F IH T IH NG', 'M IH L', 'AE T', 'G AE JH', 'EH R M', 'SH EY Z', 'R EY JH', 'Y EH S', 'L AY T', 'B R AY D', 'D IH K ER', 'S L IY P', 'B AA T', 'P AY R', 'S W IH T', 'D AA R N', 'L IY', 'T AY', 'S ER T', 'D AA R K', 'S AY D', 'EY T', 'G R AW W', 'B IH T', 'F R AH D', 'T R EY D', 'B AO R', 'K UW P', 'Y IY', 'D UW', 'S AY', 'AA R T', 'B IY P', 'B R AO R D', 'HH EH R', 'L ER', 'K EY JH', 'P IH T', 'S IY', 'B AH G D R OW', 'P AA P AH', 'M AY K', 'T AY', 'K IH T AH N', 'B AA R T', 'T UW B AH L', 'L AA T', 'AA R T', 'D AA R T', 'B AE T', 'P EY N', 'S IY', 'R AE D', 'Y IY S', 'AE T', 'D AE G ER', 'F AA R M', 'P R OW P', 'S P AA R', 'K R AY ER', 'TH W OW', 'B R AE G', 'P AA R K', 'F L IY T', 'F R IY', 'S T AA R T', 'T R OW AH N', 'TH R EY T', 'D AA R K', 'R IY', 'HH AH M', 'L OW', 'R EY JH', 'G AH NG', 'EH K OW', 'F R UW T', 'S T R AH G AH L', 'EH M', 'SH UW T', 'K L AO', 'D AE JH', 'K AH', 'F IY', 'HH AE T', 'S W IH P', 'B IY T', 'T R EY L', 'D AE G', 'S L AH K T', 'AH', 'P AA T', 'P AA R M', 'B AE G D', 'W ER M', 'B R AE K', 'S T IY P', 'D R UW P', 'F R UW T', 'S AE T', 'M IH R', 'P R AW D', 'R IY K', 'T AA P', 'F R UW T', 'F AO R', 'F R OW', 'K R EY R', 'B AE G', 'F IY', 'S T AA R K', 'G R IY', 'JH AH NG', 'T R EY', 'T AO R N', 'D AE G D', 'N IY', 'B AA', 'P AA', 'W EH L', 'S R UW P', 'AY', 'T AE P', 'SH UW T', 'S UW P', 'D R UW P', 'S L EY', 'F AO R', 'P R EY', 'F AY V', 'S P EH R AH K AH L', 'S P R IH NG K AH L', 'G R UW P', 'S W EY', 'K AE T', 'S IY EY', 'S P R IY', 'F R AE T', 'G L OW', 'W IY   R IH T AH N', 'TH R UW T', 'F IY', 'ER N D', 'HH ER M', 'T ER M', 'M AH CH', 'S W IH T IH NG', 'P R IY', 'T AY T AH N', 'B R AE B AO R N', 'F AA R M', 'R AY S ER', 'L IY', 'TH AY', 'S T AO R T', 'S P R IH T', 'R IH T AH N', 'EY CH', 'TH R EH T', 'T R OW', 'T OW', 'P L EY', 'S P AA R K AH L', 'K OW T', 'S P EY', 'F IY D Z', 'HH AE M', 'HH AE M', 'M EH K', 'S AY', 'B R AE B AO N', 'M EY D', 'B AA R N', 'R AY ER', 'W EH R D', 'B IY', 'S P L IH T', 'HH IH T V IH NG', 'T R IY T', 'F AY', 'T AY', 'Z UW L OW', 'D R EH V', 'OW D', 'S IH R AH', 'AO R M', 'T R IH P', 'T IH P', 'K OW D', 'B AE D', 'P AA R T', 'B R AH G', 'B R EH D', 'B IY T', 'T UW T', 'TH R EH D', 'T R AA T', 'F AO R K', 'EH M B', 'F AE T', 'F UH R', 'D AH G', 'AE F AH', 'D AE SH', 'F UW D', 'T EH S', 'G AA L F', 'IH M', 'F IH T', 'F AY K ER', 'S K EY', 'SH IH P', 'N IY K', 'S T R EY N', 'TH R EH T', 'SH IY', 'R IY F', 'L IH F T', 'UW Z', 'F OW T', 'P IY', 'N AH S T', 'R AA D', 'L EH N D', 'S AY R AH', 'N AA K', 'K OW B', 'B R AE T', 'B R EH D', 'B R AE G', 'S P AA R K', 'M AH N CH', 'F R EH D', 'K AO R K', 'F EH D', 'T ER', 'F AO R T', 'R EH D', 'AE M D', 'HH AE T', 'T AA P', 'G L OW T ER', 'S UW T', 'D R EH D', 'P AE F AH', 'P AA R T', 'D AA R T', 'SH IY', 'S AO T', 'HH IH M', 'S EY N', 'S R IH P', 'S L IH NG', 'F R IY T', 'G R IY Z', 'L EH T', 'IH T', 'M AH S T', 'HH EH M', 'S EH L W']\n",
      "SPEAKER: torgo_xlsr_finetune_M01_keep_all\n",
      "WER: 60.90%\n",
      "CER: 47.28%\n",
      "===================\n"
     ]
    }
   ],
   "source": [
    "for speaker, df in dataframes_word_keep_all_phoneme.items():\n",
    "    predictions_list = []\n",
    "    references_list = []\n",
    "\n",
    "    for index, row in df.iterrows():\n",
    "        # Assuming corrector.FixFragment() is a function that corrects phoneme fragments\n",
    "        corrected_predictions = corrector.FixFragment(row['predictions_phoneme'])\n",
    "        predictions_list.append(corrected_predictions)\n",
    "\n",
    "        references_list.append(row['references_phoneme'])\n",
    "\n",
    "    print(f\"predictions_list: {predictions_list}\")\n",
    "    # Calculate WER and CER\n",
    "    wer_score = wer(predictions_list, references_list)\n",
    "    cer_score = cer(predictions_list, references_list)\n",
    "    wer_score*=100\n",
    "    cer_score*=100\n",
    "\n",
    "    print(f\"SPEAKER: {speaker}\")\n",
    "    print(f\"WER: {wer_score:.2f}%\")\n",
    "    print(f\"CER: {cer_score:.2f}%\")\n",
    "    print(\"===================\")"
   ]
  }
 ],
 "metadata": {
  "kernelspec": {
   "display_name": "Python 3 (ipykernel)",
   "language": "python",
   "name": "python3"
  },
  "language_info": {
   "codemirror_mode": {
    "name": "ipython",
    "version": 3
   },
   "file_extension": ".py",
   "mimetype": "text/x-python",
   "name": "python",
   "nbconvert_exporter": "python",
   "pygments_lexer": "ipython3",
   "version": "3.10.13"
  }
 },
 "nbformat": 4,
 "nbformat_minor": 5
}
